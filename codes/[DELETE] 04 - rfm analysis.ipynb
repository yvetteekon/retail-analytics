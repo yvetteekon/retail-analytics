{
 "cells": [
  {
   "cell_type": "markdown",
   "metadata": {},
   "source": [
    "## Import Modules"
   ]
  },
  {
   "cell_type": "code",
   "execution_count": 1,
   "metadata": {},
   "outputs": [],
   "source": [
    "# Set paths\n",
    "import os\n",
    "from imp import reload\n",
    "\n",
    "# Data manipulation\n",
    "import pandas as pd\n",
    "import numpy as np\n",
    "from scipy import stats\n",
    "\n",
    "# Custom package for data preprocessing\n",
    "import mytools as mt \n",
    "\n",
    "# Set notebook options\n",
    "pd.set_option(\"display.max_columns\", 150)\n",
    "pd.set_option(\"display.max_rows\", 10000)\n",
    "pd.set_option(\"display.float_format\", lambda x: '%.2f' % x)\n",
    "\n",
    "# Pretty display of multiple functions in a cell\n",
    "from IPython.core.interactiveshell import InteractiveShell\n",
    "InteractiveShell.ast_node_interactivity = \"all\""
   ]
  },
  {
   "cell_type": "markdown",
   "metadata": {},
   "source": [
    "### File Location"
   ]
  },
  {
   "cell_type": "code",
   "execution_count": 2,
   "metadata": {},
   "outputs": [],
   "source": [
    "# Data paths\n",
    "import filepaths"
   ]
  },
  {
   "cell_type": "markdown",
   "metadata": {},
   "source": [
    "## Load Data"
   ]
  },
  {
   "cell_type": "code",
   "execution_count": 3,
   "metadata": {},
   "outputs": [],
   "source": [
    "df_transactions = pd.read_csv(filepaths.interim_transactions_data, sep=',')"
   ]
  },
  {
   "cell_type": "code",
   "execution_count": 5,
   "metadata": {},
   "outputs": [
    {
     "data": {
      "text/html": [
       "<div>\n",
       "<style scoped>\n",
       "    .dataframe tbody tr th:only-of-type {\n",
       "        vertical-align: middle;\n",
       "    }\n",
       "\n",
       "    .dataframe tbody tr th {\n",
       "        vertical-align: top;\n",
       "    }\n",
       "\n",
       "    .dataframe thead th {\n",
       "        text-align: right;\n",
       "    }\n",
       "</style>\n",
       "<table border=\"1\" class=\"dataframe\">\n",
       "  <thead>\n",
       "    <tr style=\"text-align: right;\">\n",
       "      <th></th>\n",
       "      <th>trans_id</th>\n",
       "      <th>customer_id</th>\n",
       "      <th>trans_date</th>\n",
       "      <th>prod_subcat_code</th>\n",
       "      <th>prod_cat_code</th>\n",
       "      <th>qty</th>\n",
       "      <th>rate</th>\n",
       "      <th>tax</th>\n",
       "      <th>total_amt</th>\n",
       "      <th>store_type</th>\n",
       "      <th>returned_item</th>\n",
       "      <th>drop_record</th>\n",
       "      <th>prod_cat</th>\n",
       "      <th>prod_subcat</th>\n",
       "      <th>counter</th>\n",
       "      <th>assessment_date</th>\n",
       "      <th>duration</th>\n",
       "      <th>trans_date.day</th>\n",
       "      <th>trans_date.month_num</th>\n",
       "      <th>trans_date.year</th>\n",
       "      <th>trans_date.year_month</th>\n",
       "      <th>trans_date.hour</th>\n",
       "      <th>trans_date.weekday</th>\n",
       "      <th>trans_date.week_of_year</th>\n",
       "      <th>trans_date.month</th>\n",
       "      <th>trans_date.weekday_num</th>\n",
       "      <th>trans_date.week_of_month</th>\n",
       "      <th>first_purchase_date</th>\n",
       "      <th>first_purchase.cohort</th>\n",
       "      <th>purchase_date.cohort</th>\n",
       "      <th>customer_type.period</th>\n",
       "      <th>returned</th>\n",
       "    </tr>\n",
       "  </thead>\n",
       "  <tbody>\n",
       "    <tr>\n",
       "      <td>0</td>\n",
       "      <td>25890929042</td>\n",
       "      <td>266783</td>\n",
       "      <td>2011-09-23</td>\n",
       "      <td>1</td>\n",
       "      <td>2</td>\n",
       "      <td>4</td>\n",
       "      <td>1321</td>\n",
       "      <td>554.82</td>\n",
       "      <td>5838.82</td>\n",
       "      <td>e-Shop</td>\n",
       "      <td>yes</td>\n",
       "      <td>no</td>\n",
       "      <td>Footwear</td>\n",
       "      <td>Mens</td>\n",
       "      <td>1</td>\n",
       "      <td>2014-12-02</td>\n",
       "      <td>394.00</td>\n",
       "      <td>23</td>\n",
       "      <td>9</td>\n",
       "      <td>2011</td>\n",
       "      <td>2011_09</td>\n",
       "      <td>0</td>\n",
       "      <td>06_Friday</td>\n",
       "      <td>38</td>\n",
       "      <td>09_Sep</td>\n",
       "      <td>6</td>\n",
       "      <td>month.week4</td>\n",
       "      <td>2011-09-23</td>\n",
       "      <td>2011_09</td>\n",
       "      <td>2011_09</td>\n",
       "      <td>new</td>\n",
       "      <td>no</td>\n",
       "    </tr>\n",
       "    <tr>\n",
       "      <td>1</td>\n",
       "      <td>98477711300</td>\n",
       "      <td>266783</td>\n",
       "      <td>2012-10-21</td>\n",
       "      <td>4</td>\n",
       "      <td>1</td>\n",
       "      <td>3</td>\n",
       "      <td>93</td>\n",
       "      <td>29.30</td>\n",
       "      <td>308.30</td>\n",
       "      <td>TeleShop</td>\n",
       "      <td>no</td>\n",
       "      <td>no</td>\n",
       "      <td>Clothing</td>\n",
       "      <td>Mens</td>\n",
       "      <td>1</td>\n",
       "      <td>2014-12-02</td>\n",
       "      <td>122.00</td>\n",
       "      <td>21</td>\n",
       "      <td>10</td>\n",
       "      <td>2012</td>\n",
       "      <td>2012_10</td>\n",
       "      <td>0</td>\n",
       "      <td>01_Sunday</td>\n",
       "      <td>42</td>\n",
       "      <td>10_Oct</td>\n",
       "      <td>1</td>\n",
       "      <td>month.week3</td>\n",
       "      <td>2011-09-23</td>\n",
       "      <td>2011_09</td>\n",
       "      <td>2012_10</td>\n",
       "      <td>existing</td>\n",
       "      <td>no</td>\n",
       "    </tr>\n",
       "  </tbody>\n",
       "</table>\n",
       "</div>"
      ],
      "text/plain": [
       "      trans_id  customer_id  trans_date  prod_subcat_code  prod_cat_code  qty  \\\n",
       "0  25890929042       266783  2011-09-23                 1              2    4   \n",
       "1  98477711300       266783  2012-10-21                 4              1    3   \n",
       "\n",
       "   rate    tax  total_amt store_type returned_item drop_record  prod_cat  \\\n",
       "0  1321 554.82    5838.82     e-Shop           yes          no  Footwear   \n",
       "1    93  29.30     308.30   TeleShop            no          no  Clothing   \n",
       "\n",
       "  prod_subcat  counter assessment_date  duration  trans_date.day  \\\n",
       "0        Mens        1      2014-12-02    394.00              23   \n",
       "1        Mens        1      2014-12-02    122.00              21   \n",
       "\n",
       "   trans_date.month_num  trans_date.year trans_date.year_month  \\\n",
       "0                     9             2011               2011_09   \n",
       "1                    10             2012               2012_10   \n",
       "\n",
       "   trans_date.hour trans_date.weekday  trans_date.week_of_year  \\\n",
       "0                0          06_Friday                       38   \n",
       "1                0          01_Sunday                       42   \n",
       "\n",
       "  trans_date.month  trans_date.weekday_num trans_date.week_of_month  \\\n",
       "0           09_Sep                       6              month.week4   \n",
       "1           10_Oct                       1              month.week3   \n",
       "\n",
       "  first_purchase_date first_purchase.cohort purchase_date.cohort  \\\n",
       "0          2011-09-23               2011_09              2011_09   \n",
       "1          2011-09-23               2011_09              2012_10   \n",
       "\n",
       "  customer_type.period returned  \n",
       "0                  new       no  \n",
       "1             existing       no  "
      ]
     },
     "execution_count": 5,
     "metadata": {},
     "output_type": "execute_result"
    }
   ],
   "source": [
    "df_transactions.head(2)"
   ]
  },
  {
   "cell_type": "markdown",
   "metadata": {},
   "source": [
    "## Data Audit"
   ]
  },
  {
   "cell_type": "code",
   "execution_count": null,
   "metadata": {},
   "outputs": [],
   "source": [
    "df_customer.columns = [c.lower() for c in df_customer.columns]\n",
    "df_customer.shape\n",
    "mt.check_unique_no(df_customer, ['customer_id'])\n",
    "mt.missing_data_table(df_customer)\n",
    "df_customer.head()"
   ]
  },
  {
   "cell_type": "code",
   "execution_count": null,
   "metadata": {},
   "outputs": [],
   "source": [
    "df_transactions.rename(columns={'transaction_id':'trans_id', 'cust_id':'customer_id', 'tran_date':'trans_date'}, inplace=True)\n",
    "df_transactions.columns = [c.lower() for c in df_transactions.columns]\n",
    "df_transactions.shape\n",
    "mt.check_unique_no(df_transactions, ['customer_id', 'trans_id'])\n",
    "mt.missing_data_table(df_transactions)\n",
    "df_transactions.head()\n",
    "df_transactions.describe()"
   ]
  },
  {
   "cell_type": "code",
   "execution_count": null,
   "metadata": {},
   "outputs": [],
   "source": [
    "df_transactions['trans_id'].value_counts(dropna=False).head()"
   ]
  },
  {
   "cell_type": "code",
   "execution_count": null,
   "metadata": {},
   "outputs": [],
   "source": [
    "df_transactions[df_transactions['trans_id'] == 426787191]"
   ]
  },
  {
   "cell_type": "code",
   "execution_count": null,
   "metadata": {},
   "outputs": [],
   "source": [
    "df_transactions[df_transactions['trans_id'] == 4170892941]"
   ]
  },
  {
   "cell_type": "code",
   "execution_count": null,
   "metadata": {},
   "outputs": [],
   "source": [
    "df_transactions[df_transactions['trans_id'] == 3130889793]"
   ]
  },
  {
   "cell_type": "code",
   "execution_count": null,
   "metadata": {},
   "outputs": [],
   "source": [
    "df_transactions['trans_id'].value_counts(dropna=False)[df_transactions['trans_id'].value_counts(dropna=False).values > 1].index.nunique()"
   ]
  },
  {
   "cell_type": "code",
   "execution_count": null,
   "metadata": {},
   "outputs": [],
   "source": [
    "df_transactions[df_transactions['qty'] < 0].shape\n",
    "df_transactions[df_transactions['qty'] < 0].head()\n",
    "df_transactions[df_transactions['qty'] < 0]['store_type'].value_counts(dropna=False)"
   ]
  },
  {
   "cell_type": "code",
   "execution_count": null,
   "metadata": {},
   "outputs": [],
   "source": [
    "df_transactions[df_transactions['qty'] > 0].shape\n",
    "df_transactions[df_transactions['qty'] > 0].head()\n",
    "df_transactions[df_transactions['qty'] > 0]['store_type'].value_counts(dropna=False)"
   ]
  },
  {
   "cell_type": "code",
   "execution_count": null,
   "metadata": {},
   "outputs": [],
   "source": [
    "df_products.rename(columns={'prod_sub_cat_code':'prod_subcat_code'}, inplace=True)\n",
    "df_products['counter'] = 1\n",
    "mt.missing_data_table(df_products)\n",
    "df_products.head()"
   ]
  },
  {
   "cell_type": "code",
   "execution_count": null,
   "metadata": {},
   "outputs": [],
   "source": [
    "prod_cat_dict = dict(zip(df_products['prod_cat_code'],df_products['prod_cat']))\n",
    "prod_subcat_dict = dict(zip(df_products['prod_subcat_code'],df_products['prod_subcat']))"
   ]
  },
  {
   "cell_type": "code",
   "execution_count": null,
   "metadata": {},
   "outputs": [],
   "source": [
    "df_products.groupby(['prod_cat'])['prod_subcat'].value_counts(dropna=False)"
   ]
  },
  {
   "cell_type": "code",
   "execution_count": null,
   "metadata": {},
   "outputs": [],
   "source": [
    "df_products['prod_cat'].value_counts(dropna=False)"
   ]
  },
  {
   "cell_type": "code",
   "execution_count": null,
   "metadata": {},
   "outputs": [],
   "source": [
    "df_products['prod_subcat'].value_counts(dropna=False)"
   ]
  },
  {
   "cell_type": "markdown",
   "metadata": {},
   "source": [
    "### Transactions Data"
   ]
  },
  {
   "cell_type": "code",
   "execution_count": null,
   "metadata": {},
   "outputs": [],
   "source": [
    "converted_customers = df_transactions['customer_id'].unique().tolist()"
   ]
  },
  {
   "cell_type": "code",
   "execution_count": null,
   "metadata": {},
   "outputs": [],
   "source": [
    "df_transactions['trans_date'] = pd.to_datetime(df_transactions['trans_date'])\n",
    "df_transactions['trans_date'].sort_values().min()\n",
    "df_transactions['trans_date'].sort_values().max()"
   ]
  },
  {
   "cell_type": "code",
   "execution_count": null,
   "metadata": {},
   "outputs": [],
   "source": [
    "df_transactions = pd.merge(df_transactions, df_products, on=['prod_cat_code', 'prod_subcat_code'], how='left')\n",
    "df_transactions.head()"
   ]
  },
  {
   "cell_type": "code",
   "execution_count": null,
   "metadata": {},
   "outputs": [],
   "source": [
    "# df_transactions['qty'] = np.where((df_transactions['qty'] < 0), (-1*df_transactions['qty']), df_transactions['qty'])\n",
    "# df_transactions['rate'] = np.where((df_transactions['rate'] < 0), (-1*df_transactions['rate']), df_transactions['rate'])\n",
    "# df_transactions['total_amt'] = np.where((df_transactions['total_amt'] < 0), (-1*df_transactions['total_amt']), df_transactions['total_amt'])\n",
    "# df_transactions.head()"
   ]
  },
  {
   "cell_type": "code",
   "execution_count": null,
   "metadata": {},
   "outputs": [],
   "source": [
    "df_transactions['store_type'].value_counts(dropna=False)"
   ]
  },
  {
   "cell_type": "code",
   "execution_count": null,
   "metadata": {},
   "outputs": [],
   "source": [
    "df_transactions = df_transactions.sort_values(['customer_id','trans_date'])"
   ]
  },
  {
   "cell_type": "code",
   "execution_count": null,
   "metadata": {},
   "outputs": [],
   "source": [
    "df_transactions['assessment_date'] = df_transactions['trans_date'].sort_values().max()"
   ]
  },
  {
   "cell_type": "code",
   "execution_count": null,
   "metadata": {},
   "outputs": [],
   "source": [
    "df_transactions['duration'] = df_transactions.groupby(['customer_id'])['trans_date'].transform(pd.Series.diff).shift(-1)\n",
    "df_transactions['duration'] = df_transactions.apply(lambda r: r['assessment_date'] - r['trans_date'] if pd.isnull(r['duration']) else r['duration'], axis=1)\n",
    "df_transactions['duration'] = (df_transactions['duration']/np.timedelta64(1, 'D'))"
   ]
  },
  {
   "cell_type": "code",
   "execution_count": null,
   "metadata": {},
   "outputs": [],
   "source": [
    "df_transactions.head(7)"
   ]
  },
  {
   "cell_type": "code",
   "execution_count": null,
   "metadata": {},
   "outputs": [],
   "source": [
    "df_trans_overall = df_transactions.groupby(['customer_id'], as_index=False).agg({'trans_date':['first', 'last', pd.Series.nunique],\n",
    "                                                                                 'duration': ['min', 'max', 'mean', 'last'],\n",
    "                                                        'trans_id':'count',\n",
    "                                                        'qty':['min', 'max', 'sum'],\n",
    "                                                       'tax':'sum',\n",
    "                                                       'total_amt':'sum' }) #, lambda x: stats.mode(x)[0][0]]|, 'prod_cat':[pd.Series.nunique],\n",
    "#                                                          'prod_subcat':[pd.Series.nunique],\n",
    "#                                                        'store_type':[pd.Series.nunique]"
   ]
  },
  {
   "cell_type": "code",
   "execution_count": null,
   "metadata": {},
   "outputs": [],
   "source": [
    "df_trans_overall.shape\n",
    "df_trans_overall.columns = [\".\".join(x).strip('.') for x in df_trans_overall.columns.ravel()] \n",
    "df_trans_overall.rename(columns={'trans_date.first':'conversion_date', 'trans_date.last':'last_purchase_date',\n",
    "                                'trans_date.nunique':'number_of_purchase_days'}, inplace=True)\n",
    "mt.check_unique_no(df_trans_overall, ['customer_id'])\n",
    "df_trans_overall.head()"
   ]
  },
  {
   "cell_type": "code",
   "execution_count": null,
   "metadata": {},
   "outputs": [],
   "source": [
    "df_trans_overall['assessment_date'] = df_transactions['trans_date'].sort_values().max()"
   ]
  },
  {
   "cell_type": "code",
   "execution_count": null,
   "metadata": {},
   "outputs": [],
   "source": [
    "df_trans_overall['customer_age.days'] = (df_trans_overall['assessment_date'] - df_trans_overall['conversion_date'])/np.timedelta64(1,'D')"
   ]
  },
  {
   "cell_type": "code",
   "execution_count": null,
   "metadata": {},
   "outputs": [],
   "source": [
    "df_trans_overall['customer_age.years'] = (df_trans_overall['assessment_date'] - df_trans_overall['conversion_date'])/np.timedelta64(1,'Y')"
   ]
  },
  {
   "cell_type": "code",
   "execution_count": null,
   "metadata": {},
   "outputs": [],
   "source": [
    "age_bins =  [0, 1, 2, 3, 4]\n",
    "labels = ['_<01','01_02', '02_03', '03_04']\n",
    "df_trans_overall['customer_age.years.group'] = pd.cut(df_trans_overall['customer_age.years'], age_bins, labels = labels,include_lowest = True)"
   ]
  },
  {
   "cell_type": "code",
   "execution_count": null,
   "metadata": {},
   "outputs": [],
   "source": [
    "# def customer_profile(_df, unique_id, value, featurelist):\n",
    "#     df_list = []\n",
    "#     for feature in featurelist:\n",
    "#         _df[feature] = _df[feature].astype(str)\n",
    "#         _df_temp = pd.crosstab(_df[unique_id], _df[feature], values=_df[value], \n",
    "#                                aggfunc=['count','sum', 'mean'], dropna=False).fillna(0).reset_index()\n",
    "#         _df_temp.columns = [\".\".join(x).strip('.') for x in _df_temp.columns.ravel()] \n",
    "#         df_list.append(_df_temp)\n",
    "#         dfs = [df.set_index(unique_id) for df in df_list]\n",
    "#         df = pd.concat(dfs, axis=1)\n",
    "#         df.reset_index(inplace=True)\n",
    "#     return df"
   ]
  },
  {
   "cell_type": "code",
   "execution_count": null,
   "metadata": {},
   "outputs": [],
   "source": [
    "# df_product_cat = customer_profile(df_transactions, 'customer_id', 'total_amt', ['prod_cat'])\n",
    "# df_product_cat.head()"
   ]
  },
  {
   "cell_type": "code",
   "execution_count": null,
   "metadata": {},
   "outputs": [],
   "source": [
    "# df_product_subcat = customer_profile(df_transactions, 'customer_id', 'total_amt', ['prod_subcat'])\n",
    "# df_product_subcat.head()"
   ]
  },
  {
   "cell_type": "code",
   "execution_count": null,
   "metadata": {},
   "outputs": [],
   "source": [
    "# df_stores = customer_profile(df_transactions, 'customer_id', 'total_amt', ['store_type'])\n",
    "# df_stores.head()"
   ]
  },
  {
   "cell_type": "code",
   "execution_count": null,
   "metadata": {},
   "outputs": [],
   "source": [
    "# df_trans_overall = pd.merge(df_trans_overall, df_stores, on=['customer_id'], how='left')\n",
    "# df_trans_overall.head()"
   ]
  },
  {
   "cell_type": "code",
   "execution_count": null,
   "metadata": {},
   "outputs": [],
   "source": [
    "# df_trans_overall['Flagship_store_spend.prop'] = df_trans_overall['sum.Flagship store']/df_trans_overall['total_amt.sum']\n",
    "# df_trans_overall['MBR_spend.prop'] = df_trans_overall['sum.MBR']/df_trans_overall['total_amt.sum']\n",
    "# df_trans_overall['TeleShop_spend.prop'] = df_trans_overall['sum.TeleShop']/df_trans_overall['total_amt.sum']\n",
    "# df_trans_overall['e-Shop.prop'] = df_trans_overall['sum.e-Shop']/df_trans_overall['total_amt.sum']"
   ]
  },
  {
   "cell_type": "code",
   "execution_count": null,
   "metadata": {},
   "outputs": [],
   "source": [
    "# df_trans_overall = pd.merge(df_trans_overall, df_product_cat, on=['customer_id'], how='left')\n",
    "# df_trans_overall.head()"
   ]
  },
  {
   "cell_type": "code",
   "execution_count": null,
   "metadata": {},
   "outputs": [],
   "source": [
    "# df_trans_overall['Bags.prop'] = df_trans_overall['sum.Bags']/df_trans_overall['total_amt.sum']\n",
    "# df_trans_overall['Books.prop'] = df_trans_overall['sum.Books']/df_trans_overall['total_amt.sum']\n",
    "# df_trans_overall['Clothing.prop'] = df_trans_overall['sum.Clothing']/df_trans_overall['total_amt.sum']\n",
    "# df_trans_overall['Electronics.prop'] = df_trans_overall['sum.Electronics']/df_trans_overall['total_amt.sum']\n",
    "# df_trans_overall['Footwear.prop'] = df_trans_overall['sum.Footwear']/df_trans_overall['total_amt.sum']\n",
    "# df_trans_overall['Home and kitchen.prop'] = df_trans_overall['sum.Home and kitchen']/df_trans_overall['total_amt.sum']"
   ]
  },
  {
   "cell_type": "code",
   "execution_count": null,
   "metadata": {},
   "outputs": [],
   "source": [
    "# df_trans_overall = pd.merge(df_trans_overall, df_product_subcat, on=['customer_id'], how='left')\n",
    "# df_trans_overall.head()"
   ]
  },
  {
   "cell_type": "code",
   "execution_count": null,
   "metadata": {},
   "outputs": [],
   "source": [
    "# df_trans_overall['Academic.prop'] = df_trans_overall['sum.Academic']/df_trans_overall['total_amt.sum']\n",
    "# df_trans_overall['Audio and video.prop'] = df_trans_overall['sum.Audio and video']/df_trans_overall['total_amt.sum']\n",
    "# df_trans_overall['Bath.prop'] = df_trans_overall['sum.Bath']/df_trans_overall['total_amt.sum']\n",
    "# df_trans_overall['Cameras.prop'] = df_trans_overall['sum.Cameras']/df_trans_overall['total_amt.sum']\n",
    "# df_trans_overall['Children.prop'] = df_trans_overall['sum.Children']/df_trans_overall['total_amt.sum']\n",
    "# df_trans_overall['Comics.prop'] = df_trans_overall['sum.Comics']/df_trans_overall['total_amt.sum']\n",
    "# df_trans_overall['Computers.prop'] = df_trans_overall['sum.Computers']/df_trans_overall['total_amt.sum']\n",
    "# df_trans_overall['DIY.prop'] = df_trans_overall['sum.DIY']/df_trans_overall['total_amt.sum']\n",
    "# df_trans_overall['Fiction.prop'] = df_trans_overall['sum.Fiction']/df_trans_overall['total_amt.sum']\n",
    "# df_trans_overall['Furnishing.prop'] = df_trans_overall['sum.Furnishing']/df_trans_overall['total_amt.sum']\n",
    "# df_trans_overall['Kids.prop'] = df_trans_overall['sum.Kids']/df_trans_overall['total_amt.sum']\n",
    "# df_trans_overall['Kitchen.prop'] = df_trans_overall['sum.Kitchen']/df_trans_overall['total_amt.sum']\n",
    "# df_trans_overall['Mens.prop'] = df_trans_overall['sum.Mens']/df_trans_overall['total_amt.sum']\n",
    "# df_trans_overall['Mobiles.prop'] = df_trans_overall['sum.Mobiles']/df_trans_overall['total_amt.sum']\n",
    "# df_trans_overall['Non-Fiction.prop'] = df_trans_overall['sum.Non-Fiction']/df_trans_overall['total_amt.sum']\n",
    "# df_trans_overall['Personal Appliances.prop'] = df_trans_overall['sum.Personal Appliances']/df_trans_overall['total_amt.sum']\n",
    "# df_trans_overall['Tools.prop'] = df_trans_overall['sum.Tools']/df_trans_overall['total_amt.sum']\n",
    "# df_trans_overall['Women.prop'] = df_trans_overall['sum.Women']/df_trans_overall['total_amt.sum']"
   ]
  },
  {
   "cell_type": "code",
   "execution_count": null,
   "metadata": {},
   "outputs": [],
   "source": [
    "df_trans_overall.head()"
   ]
  },
  {
   "cell_type": "markdown",
   "metadata": {},
   "source": [
    "### Customer Data"
   ]
  },
  {
   "cell_type": "code",
   "execution_count": null,
   "metadata": {},
   "outputs": [],
   "source": [
    "df_customer['customer_status'] = np.where((df_customer['customer_id'].isin(converted_customers)), 'converted', 'voluntarily churned - not converted')\n",
    "df_customer['customer_status'].value_counts(dropna=False)"
   ]
  },
  {
   "cell_type": "code",
   "execution_count": null,
   "metadata": {},
   "outputs": [],
   "source": [
    "df_customer['dob'] = pd.to_datetime(df_customer['dob'])\n",
    "df_customer['dob'].sort_values().min()\n",
    "df_customer['dob'].sort_values().max()"
   ]
  },
  {
   "cell_type": "code",
   "execution_count": null,
   "metadata": {},
   "outputs": [],
   "source": [
    "df_customer.tail()"
   ]
  },
  {
   "cell_type": "code",
   "execution_count": null,
   "metadata": {},
   "outputs": [],
   "source": [
    "df_transactions['trans_date.day'] = df_transactions['trans_date'].dt.day\n",
    "df_transactions['trans_date.month_num'] = df_transactions['trans_date'].dt.month.map(\"{:02}\".format)\n",
    "df_transactions['trans_date.year'] = df_transactions['trans_date'].dt.year\n",
    "df_transactions['trans_date.year_month'] = df_transactions['trans_date'].dt.year.map(str) + '_' + df_transactions['trans_date'].dt.month.map(\"{:02}\".format)\n",
    "df_transactions['trans_date.hour'] = df_transactions['trans_date'].dt.hour\n",
    "df_transactions['trans_date.weekday'] = df_transactions['trans_date'].dt.day_name()\n",
    "df_transactions['trans_date.week_of_year'] = df_transactions['trans_date'].dt.week.map(\"{:02}\".format)"
   ]
  },
  {
   "cell_type": "code",
   "execution_count": null,
   "metadata": {},
   "outputs": [],
   "source": [
    "df_transactions['trans_date.weekday'].head()"
   ]
  },
  {
   "cell_type": "code",
   "execution_count": null,
   "metadata": {},
   "outputs": [],
   "source": [
    "month_name = ['Jan', 'Feb', 'Mar', 'Apr', 'May', 'Jun', 'Jul', 'Aug', 'Sep', 'Oct', 'Nov', 'Dec']\n",
    "month_num = ['01', '02', '03', '04', '05', '06', '07', '08', '09', '10', '11', '12']\n",
    "month_dict = dict(zip(month_num, month_name))\n",
    "\n",
    "for k, v in month_dict.items():\n",
    "    mask = df_transactions['trans_date.month_num'].str.contains(k, case=True)\n",
    "\n",
    "    df_transactions.loc[mask,'trans_date.month'] = v"
   ]
  },
  {
   "cell_type": "code",
   "execution_count": null,
   "metadata": {},
   "outputs": [],
   "source": [
    "df_transactions['trans_date.month'] = df_transactions['trans_date.month_num'] + '_' + df_transactions['trans_date.month'].map(str)"
   ]
  },
  {
   "cell_type": "code",
   "execution_count": null,
   "metadata": {},
   "outputs": [],
   "source": [
    "df_transactions['trans_date.month'].value_counts(dropna=False)"
   ]
  },
  {
   "cell_type": "code",
   "execution_count": null,
   "metadata": {},
   "outputs": [],
   "source": [
    "weekday_name = ['Sunday', 'Monday', 'Tuesday', 'Wednesday', 'Thursday', 'Friday', 'Saturday']\n",
    "weekday_num = ['01', '02', '03', '04', '05', '06', '07']\n",
    "weekday_dict = dict(zip(weekday_name, weekday_num))\n",
    "\n",
    "for k, v in weekday_dict.items():\n",
    "    mask = df_transactions['trans_date.weekday'].str.contains(k, case=True)\n",
    "\n",
    "    df_transactions.loc[mask, 'trans_date.weekday_num'] = v"
   ]
  },
  {
   "cell_type": "code",
   "execution_count": null,
   "metadata": {},
   "outputs": [],
   "source": [
    "def bin_week(x):\n",
    "    if ( x>= 1) and (x <= 7):\n",
    "        return 'month.week1'\n",
    "\n",
    "    elif (x >= 8) and (x <= 14):\n",
    "        return 'month.week2'\n",
    "\n",
    "    elif (x >= 15) and (x <= 21):\n",
    "        return 'month.week3'\n",
    "\n",
    "    else:\n",
    "        return 'month.week4'"
   ]
  },
  {
   "cell_type": "code",
   "execution_count": null,
   "metadata": {},
   "outputs": [],
   "source": [
    "df_transactions['trans_date.week_of_month'] = df_transactions['trans_date'].dt.day.apply(bin_week)"
   ]
  },
  {
   "cell_type": "code",
   "execution_count": null,
   "metadata": {},
   "outputs": [],
   "source": [
    "df_transactions['trans_date.weekday'] = df_transactions['trans_date.weekday_num'] + '_' + df_transactions['trans_date.weekday'].map(str)"
   ]
  },
  {
   "cell_type": "code",
   "execution_count": null,
   "metadata": {},
   "outputs": [],
   "source": [
    "df_transactions['trans_date.weekday'].value_counts(dropna=False)"
   ]
  },
  {
   "cell_type": "code",
   "execution_count": null,
   "metadata": {},
   "outputs": [],
   "source": [
    "# df_transactions['trans_date.hour'].describe()\n",
    "# df_transactions['trans_date.time_of_day']"
   ]
  },
  {
   "cell_type": "code",
   "execution_count": null,
   "metadata": {},
   "outputs": [],
   "source": [
    "df_transactions = df_transactions.sort_values(['customer_id', 'trans_date'])"
   ]
  },
  {
   "cell_type": "code",
   "execution_count": null,
   "metadata": {},
   "outputs": [],
   "source": [
    "df_first_purchase_date = df_transactions.groupby(['customer_id']).agg({'trans_date':'first'})"
   ]
  },
  {
   "cell_type": "code",
   "execution_count": null,
   "metadata": {},
   "outputs": [],
   "source": [
    "df_first_purchase_date.rename(columns={'trans_date':'first_purchase_date'}, inplace=True)"
   ]
  },
  {
   "cell_type": "code",
   "execution_count": null,
   "metadata": {},
   "outputs": [],
   "source": [
    "df_first_purchase_date.shape"
   ]
  },
  {
   "cell_type": "code",
   "execution_count": null,
   "metadata": {},
   "outputs": [],
   "source": [
    "df_transactions = pd.merge(df_transactions, df_first_purchase_date, on='customer_id', how='left')"
   ]
  },
  {
   "cell_type": "code",
   "execution_count": null,
   "metadata": {},
   "outputs": [],
   "source": [
    "df_transactions['first_purchase.cohort'] = df_transactions['first_purchase_date'].dt.year.map(str) + \"_\" + df_transactions['first_purchase_date'].dt.month.map(\"{:02}\".format)"
   ]
  },
  {
   "cell_type": "code",
   "execution_count": null,
   "metadata": {},
   "outputs": [],
   "source": [
    "df_transactions['purchase_date.cohort'] = df_transactions['trans_date'].dt.year.map(str) + \"_\" + df_transactions['trans_date'].dt.month.map(\"{:02}\".format)"
   ]
  },
  {
   "cell_type": "code",
   "execution_count": null,
   "metadata": {},
   "outputs": [],
   "source": [
    "df_earliest_purchase_date = df_first_purchase_date.copy()\n",
    "df_earliest_purchase_date.rename(columns={'first_purchase_date':'trans_date'}, inplace=True)"
   ]
  },
  {
   "cell_type": "code",
   "execution_count": null,
   "metadata": {},
   "outputs": [],
   "source": [
    "df_earliest_purchase_date['customer_type.period'] = 'new'"
   ]
  },
  {
   "cell_type": "code",
   "execution_count": null,
   "metadata": {},
   "outputs": [],
   "source": [
    "df_transactions = pd.merge(df_transactions, df_earliest_purchase_date, on=['customer_id', 'trans_date'], how='left')"
   ]
  },
  {
   "cell_type": "code",
   "execution_count": null,
   "metadata": {},
   "outputs": [],
   "source": [
    "df_transactions['customer_type.period']  = np.where(df_transactions['customer_type.period'].isnull(), 'existing', df_transactions['customer_type.period'])"
   ]
  },
  {
   "cell_type": "code",
   "execution_count": null,
   "metadata": {},
   "outputs": [],
   "source": [
    "df_transactions['qty_negative'] = np.where((df_transactions['qty'] < 0), 'yes', 'no')"
   ]
  },
  {
   "cell_type": "code",
   "execution_count": null,
   "metadata": {},
   "outputs": [],
   "source": [
    "trans_id_returned = df_transactions[df_transactions['qty_negative'] == 'yes']['trans_id'].unique().tolist()"
   ]
  },
  {
   "cell_type": "code",
   "execution_count": null,
   "metadata": {},
   "outputs": [],
   "source": [
    "df_transactions['returned'] = np.where((df_transactions['trans_id'].isin(trans_id_returned)), 'yes', 'no')"
   ]
  },
  {
   "cell_type": "code",
   "execution_count": null,
   "metadata": {},
   "outputs": [],
   "source": [
    "df_transactions.drop(['qty_negative'], axis=1, inplace=True)"
   ]
  },
  {
   "cell_type": "code",
   "execution_count": null,
   "metadata": {},
   "outputs": [],
   "source": [
    "df_transactions.head()"
   ]
  },
  {
   "cell_type": "code",
   "execution_count": null,
   "metadata": {},
   "outputs": [],
   "source": [
    "df_transactions.tail()"
   ]
  },
  {
   "cell_type": "code",
   "execution_count": null,
   "metadata": {},
   "outputs": [],
   "source": [
    "df_transactions[df_transactions['customer_id'] == 268624]"
   ]
  },
  {
   "cell_type": "markdown",
   "metadata": {},
   "source": [
    "### Master File"
   ]
  },
  {
   "cell_type": "code",
   "execution_count": null,
   "metadata": {},
   "outputs": [],
   "source": [
    "df_master = pd.merge(df_customer, df_trans_overall,  on=['customer_id'], how='left')\n",
    "# df_master['assessment_date'] = df_transactions['trans_date'].sort_values().max()\n",
    "mt.check_unique_no(df_master, ['customer_id'])\n",
    "df_master.head()"
   ]
  },
  {
   "cell_type": "code",
   "execution_count": null,
   "metadata": {},
   "outputs": [],
   "source": [
    "df_master['customer_status'].value_counts(dropna=False)"
   ]
  },
  {
   "cell_type": "code",
   "execution_count": null,
   "metadata": {},
   "outputs": [],
   "source": [
    "df_master['conversion_date.month_num'] = df_master['conversion_date'].dt.month.map(\"{:02}\".format)"
   ]
  },
  {
   "cell_type": "code",
   "execution_count": null,
   "metadata": {},
   "outputs": [],
   "source": [
    "df_master['conversion_date.month_num'].value_counts(dropna=False)"
   ]
  },
  {
   "cell_type": "code",
   "execution_count": null,
   "metadata": {},
   "outputs": [],
   "source": [
    "# df_master['conversion_date.month_num'] = df_master['conversion_date.month_num'].astype('O').astype('int64')"
   ]
  },
  {
   "cell_type": "code",
   "execution_count": null,
   "metadata": {},
   "outputs": [],
   "source": [
    "month_name = ['Jan', 'Feb', 'Mar', 'Apr', 'May', 'Jun', 'Jul', 'Aug', 'Sep', 'Oct', 'Nov', 'Dec']\n",
    "month_num = ['1', '2', '3', '4', '5', '6', '7', '8', '9', '10', '11', '12']\n",
    "month_dict = dict(zip(month_num, month_name))\n",
    "\n",
    "for k, v in month_dict.items():\n",
    "    mask = df_master['conversion_date.month_num'].str.contains(k, case=True)\n",
    "\n",
    "    df_master.loc[mask,'conversion_date.month'] = v"
   ]
  },
  {
   "cell_type": "code",
   "execution_count": null,
   "metadata": {},
   "outputs": [],
   "source": [
    "df_master['conversion_date.month'] = df_master['conversion_date.month_num'] + '_' + df_master['conversion_date.month'].map(str)"
   ]
  },
  {
   "cell_type": "code",
   "execution_count": null,
   "metadata": {},
   "outputs": [],
   "source": [
    "df_master['conversion_date.month'].value_counts(dropna=False)"
   ]
  },
  {
   "cell_type": "code",
   "execution_count": null,
   "metadata": {},
   "outputs": [],
   "source": [
    "df_master.head(1)"
   ]
  },
  {
   "cell_type": "code",
   "execution_count": null,
   "metadata": {},
   "outputs": [],
   "source": [
    "df_master['biological_age.actual'] = (df_master['assessment_date'] - df_master['dob'])/np.timedelta64(1, 'Y')"
   ]
  },
  {
   "cell_type": "code",
   "execution_count": null,
   "metadata": {},
   "outputs": [],
   "source": [
    "df_master['biological_age.actual'].describe()"
   ]
  },
  {
   "cell_type": "code",
   "execution_count": null,
   "metadata": {},
   "outputs": [],
   "source": [
    "df_master['biological_age'] = np.round(df_master['biological_age.actual'])"
   ]
  },
  {
   "cell_type": "code",
   "execution_count": null,
   "metadata": {},
   "outputs": [],
   "source": [
    "df_master['biological_age'].describe()"
   ]
  },
  {
   "cell_type": "code",
   "execution_count": null,
   "metadata": {},
   "outputs": [],
   "source": [
    "age_bins =  [21, 25, 30, 35, 40, 45]\n",
    "labels = ['22_25','25_30', '30_35', '35_40', '40_45']\n",
    "df_master['biological_age.group'] = pd.cut(df_master['biological_age'], age_bins, labels = labels,include_lowest = True)"
   ]
  },
  {
   "cell_type": "code",
   "execution_count": null,
   "metadata": {},
   "outputs": [],
   "source": [
    "df_master['number_of_purchase_days'].describe()"
   ]
  },
  {
   "cell_type": "code",
   "execution_count": null,
   "metadata": {},
   "outputs": [],
   "source": [
    "df_master['number_of_purchase_days'] =df_master['number_of_purchase_days'].replace(np.nan, 0)"
   ]
  },
  {
   "cell_type": "code",
   "execution_count": null,
   "metadata": {},
   "outputs": [],
   "source": [
    "df_master['repeat_purchaser'] = np.where((df_master['number_of_purchase_days'] > 1), 'yes',\n",
    "                                      np.where((df_master['number_of_purchase_days']== 0),'never purchased',\n",
    "                                        'no'))"
   ]
  },
  {
   "cell_type": "code",
   "execution_count": null,
   "metadata": {},
   "outputs": [],
   "source": [
    "df_master[df_master['customer_id'] == 266783]"
   ]
  },
  {
   "cell_type": "code",
   "execution_count": null,
   "metadata": {},
   "outputs": [],
   "source": [
    "df_master[df_master['customer_age.years'] == df_master['customer_age.years'].min()]"
   ]
  },
  {
   "cell_type": "code",
   "execution_count": null,
   "metadata": {},
   "outputs": [],
   "source": [
    "df_master['1_day_amt.avg'] = (df_master['total_amt.sum']/df_master['customer_age.days']) * 1\n",
    "df_master['7_day_amt.avg'] = (df_master['total_amt.sum']/df_master['customer_age.days']) * 7\n",
    "df_master['30_day_amt.avg'] = (df_master['total_amt.sum']/df_master['customer_age.days']) * 30"
   ]
  },
  {
   "cell_type": "code",
   "execution_count": null,
   "metadata": {},
   "outputs": [],
   "source": [
    "df_master['1_day_num.avg'] = (df_master['qty.sum']/df_master['customer_age.days']) * 1\n",
    "df_master['7_day_num.avg'] = (df_master['qty.sum']/df_master['customer_age.days']) * 7\n",
    "df_master['30_day_num.avg'] = (df_master['qty.sum']/df_master['customer_age.days']) * 30"
   ]
  },
  {
   "cell_type": "code",
   "execution_count": null,
   "metadata": {},
   "outputs": [],
   "source": [
    "df_master[df_master['repeat_purchaser'] == 'yes'].head()"
   ]
  },
  {
   "cell_type": "code",
   "execution_count": null,
   "metadata": {},
   "outputs": [],
   "source": [
    "df_master['repeat_purchaser'].value_counts(dropna=False)"
   ]
  },
  {
   "cell_type": "code",
   "execution_count": null,
   "metadata": {},
   "outputs": [],
   "source": [
    "df_master['qty.sum'].sum()"
   ]
  },
  {
   "cell_type": "code",
   "execution_count": null,
   "metadata": {},
   "outputs": [],
   "source": [
    "df_master['total_amt.sum'].sum()"
   ]
  },
  {
   "cell_type": "code",
   "execution_count": null,
   "metadata": {},
   "outputs": [],
   "source": [
    "df_master['total_amt.sum'].sum() - df_master['tax.sum'].sum() "
   ]
  },
  {
   "cell_type": "code",
   "execution_count": null,
   "metadata": {},
   "outputs": [],
   "source": [
    "df_transactions.to_csv(filepaths.interim_transactions_data, index=False)\n",
    "df_master.to_csv(filepaths.master_file_data, index=False)"
   ]
  }
 ],
 "metadata": {
  "kernelspec": {
   "display_name": "Python 3",
   "language": "python",
   "name": "python3"
  },
  "language_info": {
   "codemirror_mode": {
    "name": "ipython",
    "version": 3
   },
   "file_extension": ".py",
   "mimetype": "text/x-python",
   "name": "python",
   "nbconvert_exporter": "python",
   "pygments_lexer": "ipython3",
   "version": "3.7.4"
  }
 },
 "nbformat": 4,
 "nbformat_minor": 2
}
