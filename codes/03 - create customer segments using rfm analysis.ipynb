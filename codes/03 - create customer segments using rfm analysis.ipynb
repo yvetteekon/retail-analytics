{
 "cells": [
  {
   "cell_type": "markdown",
   "metadata": {},
   "source": [
    "## Import Modules"
   ]
  },
  {
   "cell_type": "code",
   "execution_count": 1,
   "metadata": {},
   "outputs": [],
   "source": [
    "# Set paths\n",
    "import os\n",
    "from imp import reload\n",
    "\n",
    "# Data manipulation\n",
    "import pandas as pd\n",
    "import numpy as np\n",
    "from scipy import stats\n",
    "\n",
    "# Date manipulation\n",
    "import datetime as dt\n",
    "import calendar\n",
    "calendar.setfirstweekday(calendar.SUNDAY) \n",
    "\n",
    "# Custom package for data preprocessing\n",
    "import mytools as mt \n",
    "\n",
    "# Set notebook options\n",
    "pd.set_option(\"display.max_columns\", 150)\n",
    "pd.set_option(\"display.max_rows\", 10000)\n",
    "pd.set_option(\"display.float_format\", lambda x: '%.2f' % x)\n",
    "\n",
    "# Pretty display of multiple functions in a cell\n",
    "from IPython.core.interactiveshell import InteractiveShell\n",
    "InteractiveShell.ast_node_interactivity = \"all\""
   ]
  },
  {
   "cell_type": "markdown",
   "metadata": {},
   "source": [
    "### File Location"
   ]
  },
  {
   "cell_type": "code",
   "execution_count": 2,
   "metadata": {},
   "outputs": [],
   "source": [
    "# Data paths\n",
    "import filepaths"
   ]
  },
  {
   "cell_type": "markdown",
   "metadata": {},
   "source": [
    "## Load Data"
   ]
  },
  {
   "cell_type": "code",
   "execution_count": 3,
   "metadata": {},
   "outputs": [],
   "source": [
    "df_master = pd.read_csv(filepaths.master_file_data, sep=',')\n",
    "\n",
    "df_transactions = pd.read_csv(filepaths.interim_transactions_data, sep=',')"
   ]
  },
  {
   "cell_type": "code",
   "execution_count": 4,
   "metadata": {},
   "outputs": [
    {
     "data": {
      "text/html": [
       "<div>\n",
       "<style scoped>\n",
       "    .dataframe tbody tr th:only-of-type {\n",
       "        vertical-align: middle;\n",
       "    }\n",
       "\n",
       "    .dataframe tbody tr th {\n",
       "        vertical-align: top;\n",
       "    }\n",
       "\n",
       "    .dataframe thead th {\n",
       "        text-align: right;\n",
       "    }\n",
       "</style>\n",
       "<table border=\"1\" class=\"dataframe\">\n",
       "  <thead>\n",
       "    <tr style=\"text-align: right;\">\n",
       "      <th></th>\n",
       "      <th>trans_id</th>\n",
       "      <th>customer_id</th>\n",
       "      <th>trans_date</th>\n",
       "      <th>prod_subcat_code</th>\n",
       "      <th>prod_cat_code</th>\n",
       "      <th>qty</th>\n",
       "      <th>rate</th>\n",
       "      <th>cogs</th>\n",
       "      <th>total_amt</th>\n",
       "      <th>store_type</th>\n",
       "      <th>returned_item</th>\n",
       "      <th>drop_record</th>\n",
       "      <th>prod_cat</th>\n",
       "      <th>prod_subcat</th>\n",
       "      <th>counter</th>\n",
       "      <th>assessment_date</th>\n",
       "      <th>duration</th>\n",
       "      <th>trans_date.day</th>\n",
       "      <th>trans_date.month_num</th>\n",
       "      <th>trans_date.year</th>\n",
       "      <th>trans_date.year_month</th>\n",
       "      <th>trans_date.hour</th>\n",
       "      <th>trans_date.weekday</th>\n",
       "      <th>trans_date.week_of_year</th>\n",
       "      <th>trans_date.month</th>\n",
       "      <th>trans_date.weekday_num</th>\n",
       "      <th>trans_date.week_of_month</th>\n",
       "      <th>first_purchase_date</th>\n",
       "      <th>first_purchase.cohort</th>\n",
       "      <th>purchase_date.cohort</th>\n",
       "      <th>customer_type.period</th>\n",
       "      <th>returned_item_before</th>\n",
       "    </tr>\n",
       "  </thead>\n",
       "  <tbody>\n",
       "    <tr>\n",
       "      <th>0</th>\n",
       "      <td>25890929042</td>\n",
       "      <td>266783</td>\n",
       "      <td>2011-09-23</td>\n",
       "      <td>1</td>\n",
       "      <td>2</td>\n",
       "      <td>4</td>\n",
       "      <td>1321</td>\n",
       "      <td>554.82</td>\n",
       "      <td>5838.82</td>\n",
       "      <td>e-Shop</td>\n",
       "      <td>yes</td>\n",
       "      <td>yes</td>\n",
       "      <td>Footwear</td>\n",
       "      <td>Mens</td>\n",
       "      <td>1</td>\n",
       "      <td>2014-12-02</td>\n",
       "      <td>1.00</td>\n",
       "      <td>23</td>\n",
       "      <td>9</td>\n",
       "      <td>2011</td>\n",
       "      <td>2011_09</td>\n",
       "      <td>0</td>\n",
       "      <td>06_Friday</td>\n",
       "      <td>38</td>\n",
       "      <td>09_Sep</td>\n",
       "      <td>6</td>\n",
       "      <td>month.week4</td>\n",
       "      <td>2011-09-23</td>\n",
       "      <td>2011_09</td>\n",
       "      <td>2011_09</td>\n",
       "      <td>new</td>\n",
       "      <td>yes</td>\n",
       "    </tr>\n",
       "    <tr>\n",
       "      <th>1</th>\n",
       "      <td>25890929042</td>\n",
       "      <td>266783</td>\n",
       "      <td>2011-09-24</td>\n",
       "      <td>1</td>\n",
       "      <td>2</td>\n",
       "      <td>-4</td>\n",
       "      <td>-1321</td>\n",
       "      <td>554.82</td>\n",
       "      <td>-5838.82</td>\n",
       "      <td>e-Shop</td>\n",
       "      <td>yes</td>\n",
       "      <td>no</td>\n",
       "      <td>Footwear</td>\n",
       "      <td>Mens</td>\n",
       "      <td>1</td>\n",
       "      <td>2014-12-02</td>\n",
       "      <td>393.00</td>\n",
       "      <td>24</td>\n",
       "      <td>9</td>\n",
       "      <td>2011</td>\n",
       "      <td>2011_09</td>\n",
       "      <td>0</td>\n",
       "      <td>07_Saturday</td>\n",
       "      <td>38</td>\n",
       "      <td>09_Sep</td>\n",
       "      <td>7</td>\n",
       "      <td>month.week4</td>\n",
       "      <td>2011-09-23</td>\n",
       "      <td>2011_09</td>\n",
       "      <td>2011_09</td>\n",
       "      <td>existing</td>\n",
       "      <td>yes</td>\n",
       "    </tr>\n",
       "  </tbody>\n",
       "</table>\n",
       "</div>"
      ],
      "text/plain": [
       "      trans_id  customer_id  trans_date  prod_subcat_code  prod_cat_code  qty  \\\n",
       "0  25890929042       266783  2011-09-23                 1              2    4   \n",
       "1  25890929042       266783  2011-09-24                 1              2   -4   \n",
       "\n",
       "   rate   cogs  total_amt store_type returned_item drop_record  prod_cat  \\\n",
       "0  1321 554.82    5838.82     e-Shop           yes         yes  Footwear   \n",
       "1 -1321 554.82   -5838.82     e-Shop           yes          no  Footwear   \n",
       "\n",
       "  prod_subcat  counter assessment_date  duration  trans_date.day  \\\n",
       "0        Mens        1      2014-12-02      1.00              23   \n",
       "1        Mens        1      2014-12-02    393.00              24   \n",
       "\n",
       "   trans_date.month_num  trans_date.year trans_date.year_month  \\\n",
       "0                     9             2011               2011_09   \n",
       "1                     9             2011               2011_09   \n",
       "\n",
       "   trans_date.hour trans_date.weekday  trans_date.week_of_year  \\\n",
       "0                0          06_Friday                       38   \n",
       "1                0        07_Saturday                       38   \n",
       "\n",
       "  trans_date.month  trans_date.weekday_num trans_date.week_of_month  \\\n",
       "0           09_Sep                       6              month.week4   \n",
       "1           09_Sep                       7              month.week4   \n",
       "\n",
       "  first_purchase_date first_purchase.cohort purchase_date.cohort  \\\n",
       "0          2011-09-23               2011_09              2011_09   \n",
       "1          2011-09-23               2011_09              2011_09   \n",
       "\n",
       "  customer_type.period returned_item_before  \n",
       "0                  new                  yes  \n",
       "1             existing                  yes  "
      ]
     },
     "execution_count": 4,
     "metadata": {},
     "output_type": "execute_result"
    }
   ],
   "source": [
    "df_transactions.head(2)"
   ]
  },
  {
   "cell_type": "code",
   "execution_count": 5,
   "metadata": {},
   "outputs": [
    {
     "name": "stdout",
     "output_type": "stream",
     "text": [
      "Data has 5506 unique customer_id\n"
     ]
    },
    {
     "data": {
      "text/plain": [
       "(20996, 32)"
      ]
     },
     "execution_count": 5,
     "metadata": {},
     "output_type": "execute_result"
    },
    {
     "data": {
      "text/html": [
       "<div>\n",
       "<style scoped>\n",
       "    .dataframe tbody tr th:only-of-type {\n",
       "        vertical-align: middle;\n",
       "    }\n",
       "\n",
       "    .dataframe tbody tr th {\n",
       "        vertical-align: top;\n",
       "    }\n",
       "\n",
       "    .dataframe thead th {\n",
       "        text-align: right;\n",
       "    }\n",
       "</style>\n",
       "<table border=\"1\" class=\"dataframe\">\n",
       "  <thead>\n",
       "    <tr style=\"text-align: right;\">\n",
       "      <th></th>\n",
       "      <th>trans_id</th>\n",
       "      <th>customer_id</th>\n",
       "      <th>trans_date</th>\n",
       "      <th>prod_subcat_code</th>\n",
       "      <th>prod_cat_code</th>\n",
       "      <th>qty</th>\n",
       "      <th>rate</th>\n",
       "      <th>cogs</th>\n",
       "      <th>total_amt</th>\n",
       "      <th>store_type</th>\n",
       "      <th>returned_item</th>\n",
       "      <th>drop_record</th>\n",
       "      <th>prod_cat</th>\n",
       "      <th>prod_subcat</th>\n",
       "      <th>counter</th>\n",
       "      <th>assessment_date</th>\n",
       "      <th>duration</th>\n",
       "      <th>trans_date.day</th>\n",
       "      <th>trans_date.month_num</th>\n",
       "      <th>trans_date.year</th>\n",
       "      <th>trans_date.year_month</th>\n",
       "      <th>trans_date.hour</th>\n",
       "      <th>trans_date.weekday</th>\n",
       "      <th>trans_date.week_of_year</th>\n",
       "      <th>trans_date.month</th>\n",
       "      <th>trans_date.weekday_num</th>\n",
       "      <th>trans_date.week_of_month</th>\n",
       "      <th>first_purchase_date</th>\n",
       "      <th>first_purchase.cohort</th>\n",
       "      <th>purchase_date.cohort</th>\n",
       "      <th>customer_type.period</th>\n",
       "      <th>returned_item_before</th>\n",
       "    </tr>\n",
       "  </thead>\n",
       "  <tbody>\n",
       "    <tr>\n",
       "      <th>1</th>\n",
       "      <td>25890929042</td>\n",
       "      <td>266783</td>\n",
       "      <td>2011-09-24</td>\n",
       "      <td>1</td>\n",
       "      <td>2</td>\n",
       "      <td>-4</td>\n",
       "      <td>-1321</td>\n",
       "      <td>554.82</td>\n",
       "      <td>-5838.82</td>\n",
       "      <td>e-Shop</td>\n",
       "      <td>yes</td>\n",
       "      <td>no</td>\n",
       "      <td>Footwear</td>\n",
       "      <td>Mens</td>\n",
       "      <td>1</td>\n",
       "      <td>2014-12-02</td>\n",
       "      <td>393.00</td>\n",
       "      <td>24</td>\n",
       "      <td>9</td>\n",
       "      <td>2011</td>\n",
       "      <td>2011_09</td>\n",
       "      <td>0</td>\n",
       "      <td>07_Saturday</td>\n",
       "      <td>38</td>\n",
       "      <td>09_Sep</td>\n",
       "      <td>7</td>\n",
       "      <td>month.week4</td>\n",
       "      <td>2011-09-23</td>\n",
       "      <td>2011_09</td>\n",
       "      <td>2011_09</td>\n",
       "      <td>existing</td>\n",
       "      <td>yes</td>\n",
       "    </tr>\n",
       "    <tr>\n",
       "      <th>2</th>\n",
       "      <td>98477711300</td>\n",
       "      <td>266783</td>\n",
       "      <td>2012-10-21</td>\n",
       "      <td>4</td>\n",
       "      <td>1</td>\n",
       "      <td>3</td>\n",
       "      <td>93</td>\n",
       "      <td>29.30</td>\n",
       "      <td>308.30</td>\n",
       "      <td>TeleShop</td>\n",
       "      <td>no</td>\n",
       "      <td>yes</td>\n",
       "      <td>Clothing</td>\n",
       "      <td>Mens</td>\n",
       "      <td>1</td>\n",
       "      <td>2014-12-02</td>\n",
       "      <td>122.00</td>\n",
       "      <td>21</td>\n",
       "      <td>10</td>\n",
       "      <td>2012</td>\n",
       "      <td>2012_10</td>\n",
       "      <td>0</td>\n",
       "      <td>01_Sunday</td>\n",
       "      <td>42</td>\n",
       "      <td>10_Oct</td>\n",
       "      <td>1</td>\n",
       "      <td>month.week3</td>\n",
       "      <td>2011-09-23</td>\n",
       "      <td>2011_09</td>\n",
       "      <td>2012_10</td>\n",
       "      <td>existing</td>\n",
       "      <td>no</td>\n",
       "    </tr>\n",
       "  </tbody>\n",
       "</table>\n",
       "</div>"
      ],
      "text/plain": [
       "      trans_id  customer_id  trans_date  prod_subcat_code  prod_cat_code  qty  \\\n",
       "1  25890929042       266783  2011-09-24                 1              2   -4   \n",
       "2  98477711300       266783  2012-10-21                 4              1    3   \n",
       "\n",
       "   rate   cogs  total_amt store_type returned_item drop_record  prod_cat  \\\n",
       "1 -1321 554.82   -5838.82     e-Shop           yes          no  Footwear   \n",
       "2    93  29.30     308.30   TeleShop            no         yes  Clothing   \n",
       "\n",
       "  prod_subcat  counter assessment_date  duration  trans_date.day  \\\n",
       "1        Mens        1      2014-12-02    393.00              24   \n",
       "2        Mens        1      2014-12-02    122.00              21   \n",
       "\n",
       "   trans_date.month_num  trans_date.year trans_date.year_month  \\\n",
       "1                     9             2011               2011_09   \n",
       "2                    10             2012               2012_10   \n",
       "\n",
       "   trans_date.hour trans_date.weekday  trans_date.week_of_year  \\\n",
       "1                0        07_Saturday                       38   \n",
       "2                0          01_Sunday                       42   \n",
       "\n",
       "  trans_date.month  trans_date.weekday_num trans_date.week_of_month  \\\n",
       "1           09_Sep                       7              month.week4   \n",
       "2           10_Oct                       1              month.week3   \n",
       "\n",
       "  first_purchase_date first_purchase.cohort purchase_date.cohort  \\\n",
       "1          2011-09-23               2011_09              2011_09   \n",
       "2          2011-09-23               2011_09              2012_10   \n",
       "\n",
       "  customer_type.period returned_item_before  \n",
       "1             existing                  yes  \n",
       "2             existing                   no  "
      ]
     },
     "execution_count": 5,
     "metadata": {},
     "output_type": "execute_result"
    }
   ],
   "source": [
    "df_transactions = df_transactions[~((df_transactions['returned_item'] == 'yes') & (df_transactions['drop_record'] == 'yes'))]\n",
    "\n",
    "mt.check_unique_no(df_transactions, ['customer_id'])\n",
    "df_transactions.shape\n",
    "df_transactions.head(2)"
   ]
  },
  {
   "cell_type": "code",
   "execution_count": 6,
   "metadata": {},
   "outputs": [
    {
     "data": {
      "text/plain": [
       "Timestamp('2011-01-02 00:00:00')"
      ]
     },
     "execution_count": 6,
     "metadata": {},
     "output_type": "execute_result"
    },
    {
     "data": {
      "text/plain": [
       "Timestamp('2014-12-02 00:00:00')"
      ]
     },
     "execution_count": 6,
     "metadata": {},
     "output_type": "execute_result"
    }
   ],
   "source": [
    "df_transactions['trans_date'] = pd.to_datetime(df_transactions['trans_date'])\n",
    "\n",
    "df_transactions['trans_date'].sort_values().min()\n",
    "df_transactions['trans_date'].sort_values().max()"
   ]
  },
  {
   "cell_type": "markdown",
   "metadata": {},
   "source": [
    "### RFM Customer Segmentation"
   ]
  },
  {
   "cell_type": "code",
   "execution_count": 7,
   "metadata": {},
   "outputs": [],
   "source": [
    "EXTRACTION_DATE = dt.datetime(2014,12,2)"
   ]
  },
  {
   "cell_type": "code",
   "execution_count": 8,
   "metadata": {},
   "outputs": [],
   "source": [
    "def categorize_customers(rfm_score):\n",
    "    x = rfm_score\n",
    "    if (x == '111'):\n",
    "        return 'best customers'\n",
    "    elif (x == '311'):\n",
    "        return 'almost lost'\n",
    "    elif (x == '411'):\n",
    "        return 'lost customers'\n",
    "    elif (x == '444'):\n",
    "        return 'lost cheap customers'\n",
    "    else:\n",
    "        return 'other'  "
   ]
  },
  {
   "cell_type": "code",
   "execution_count": 9,
   "metadata": {},
   "outputs": [],
   "source": [
    "df_rfm= df_transactions.groupby('customer_id', as_index=False).agg({'trans_date': lambda date: (EXTRACTION_DATE - date.max()).days,\n",
    "                                    'trans_id': lambda num: len(num),\n",
    "                                    'total_amt': lambda price: price.sum()})"
   ]
  },
  {
   "cell_type": "code",
   "execution_count": 10,
   "metadata": {},
   "outputs": [],
   "source": [
    "df_rfm.rename(columns={'trans_date':'recency', 'trans_id':'frequency', 'total_amt':'monetary'}, inplace=True)"
   ]
  },
  {
   "cell_type": "code",
   "execution_count": 11,
   "metadata": {},
   "outputs": [],
   "source": [
    "df_rfm['r_quartile'] = pd.qcut(df_rfm['recency'], 4, ['1','2','3','4'])\n",
    "df_rfm['f_quartile'] = pd.qcut(df_rfm['frequency'], 4, ['4','3','2','1'])\n",
    "df_rfm['m_quartile'] = pd.qcut(df_rfm['monetary'], 4, ['4','3','2','1'])"
   ]
  },
  {
   "cell_type": "code",
   "execution_count": 12,
   "metadata": {},
   "outputs": [
    {
     "name": "stdout",
     "output_type": "stream",
     "text": [
      "Data has 5506 unique customer_id\n"
     ]
    },
    {
     "data": {
      "text/plain": [
       "(5506, 8)"
      ]
     },
     "execution_count": 12,
     "metadata": {},
     "output_type": "execute_result"
    }
   ],
   "source": [
    "df_rfm['RFM_Score'] = df_rfm.r_quartile.astype(str)+ df_rfm.f_quartile.astype(str) + df_rfm.m_quartile.astype(str)\n",
    "\n",
    "mt.check_unique_no(df_rfm, ['customer_id'])\n",
    "df_rfm.shape"
   ]
  },
  {
   "cell_type": "code",
   "execution_count": 13,
   "metadata": {},
   "outputs": [
    {
     "name": "stdout",
     "output_type": "stream",
     "text": [
      "Data has 5647 unique customer_id\n"
     ]
    },
    {
     "data": {
      "text/plain": [
       "(5647, 153)"
      ]
     },
     "execution_count": 13,
     "metadata": {},
     "output_type": "execute_result"
    }
   ],
   "source": [
    "mt.check_unique_no(df_master, ['customer_id'])\n",
    "df_master.shape"
   ]
  },
  {
   "cell_type": "code",
   "execution_count": 14,
   "metadata": {},
   "outputs": [],
   "source": [
    "df_master = pd.merge(df_master, df_rfm, on='customer_id', how='left')"
   ]
  },
  {
   "cell_type": "code",
   "execution_count": 15,
   "metadata": {},
   "outputs": [],
   "source": [
    "df_master['rfm_customer_segment'] = df_master['RFM_Score'].apply(categorize_customers)    "
   ]
  },
  {
   "cell_type": "code",
   "execution_count": 16,
   "metadata": {},
   "outputs": [
    {
     "data": {
      "text/html": [
       "<div>\n",
       "<style scoped>\n",
       "    .dataframe tbody tr th:only-of-type {\n",
       "        vertical-align: middle;\n",
       "    }\n",
       "\n",
       "    .dataframe tbody tr th {\n",
       "        vertical-align: top;\n",
       "    }\n",
       "\n",
       "    .dataframe thead th {\n",
       "        text-align: right;\n",
       "    }\n",
       "</style>\n",
       "<table border=\"1\" class=\"dataframe\">\n",
       "  <thead>\n",
       "    <tr style=\"text-align: right;\">\n",
       "      <th></th>\n",
       "      <th>customer_id</th>\n",
       "      <th>rfm_customer_segment</th>\n",
       "    </tr>\n",
       "  </thead>\n",
       "  <tbody>\n",
       "    <tr>\n",
       "      <th>0</th>\n",
       "      <td>268408</td>\n",
       "      <td>best customers</td>\n",
       "    </tr>\n",
       "    <tr>\n",
       "      <th>1</th>\n",
       "      <td>269696</td>\n",
       "      <td>lost cheap customers</td>\n",
       "    </tr>\n",
       "    <tr>\n",
       "      <th>2</th>\n",
       "      <td>268159</td>\n",
       "      <td>almost lost</td>\n",
       "    </tr>\n",
       "    <tr>\n",
       "      <th>3</th>\n",
       "      <td>270181</td>\n",
       "      <td>loyal customers</td>\n",
       "    </tr>\n",
       "    <tr>\n",
       "      <th>4</th>\n",
       "      <td>268073</td>\n",
       "      <td>other</td>\n",
       "    </tr>\n",
       "  </tbody>\n",
       "</table>\n",
       "</div>"
      ],
      "text/plain": [
       "   customer_id  rfm_customer_segment\n",
       "0       268408        best customers\n",
       "1       269696  lost cheap customers\n",
       "2       268159           almost lost\n",
       "3       270181       loyal customers\n",
       "4       268073                 other"
      ]
     },
     "execution_count": 16,
     "metadata": {},
     "output_type": "execute_result"
    }
   ],
   "source": [
    "df_master['rfm_customer_segment'] = np.where(((df_master['rfm_customer_segment'] == 'other') & \n",
    "                                                (df_master['m_quartile'] == '1')), 'big spender',\n",
    "                                           np.where(((df_master['rfm_customer_segment'] == 'other') & \n",
    "                                                     (df_master['f_quartile'] == '1')), 'loyal customers',\n",
    "                                                   df_master['rfm_customer_segment']))\n",
    "\n",
    "df_master[['customer_id', 'rfm_customer_segment']].head()"
   ]
  },
  {
   "cell_type": "code",
   "execution_count": 17,
   "metadata": {},
   "outputs": [
    {
     "data": {
      "text/plain": [
       "other                   3512\n",
       "big spender              954\n",
       "lost cheap customers     395\n",
       "loyal customers          363\n",
       "best customers           271\n",
       "almost lost              119\n",
       "lost customers            33\n",
       "Name: rfm_customer_segment, dtype: int64"
      ]
     },
     "execution_count": 17,
     "metadata": {},
     "output_type": "execute_result"
    }
   ],
   "source": [
    "df_master['rfm_customer_segment'].value_counts(dropna=False)"
   ]
  },
  {
   "cell_type": "code",
   "execution_count": 18,
   "metadata": {},
   "outputs": [
    {
     "name": "stdout",
     "output_type": "stream",
     "text": [
      "Data has 5647 unique customer_id\n"
     ]
    },
    {
     "data": {
      "text/plain": [
       "(5647, 161)"
      ]
     },
     "execution_count": 18,
     "metadata": {},
     "output_type": "execute_result"
    },
    {
     "name": "stdout",
     "output_type": "stream",
     "text": [
      "Data has 5506 unique customer_id\n"
     ]
    },
    {
     "data": {
      "text/plain": [
       "(20996, 32)"
      ]
     },
     "execution_count": 18,
     "metadata": {},
     "output_type": "execute_result"
    }
   ],
   "source": [
    "mt.check_unique_no(df_master, ['customer_id'])\n",
    "df_master.shape\n",
    "\n",
    "mt.check_unique_no(df_transactions, ['customer_id'])\n",
    "df_transactions.shape"
   ]
  },
  {
   "cell_type": "markdown",
   "metadata": {},
   "source": [
    "## Export Data"
   ]
  },
  {
   "cell_type": "code",
   "execution_count": 19,
   "metadata": {},
   "outputs": [],
   "source": [
    "df_master.to_csv(filepaths.master_file_data, index=False)\n",
    "df_transactions.to_csv(filepaths.interim_transactions_data, index=False)"
   ]
  }
 ],
 "metadata": {
  "kernelspec": {
   "display_name": "Python 3",
   "language": "python",
   "name": "python3"
  },
  "language_info": {
   "codemirror_mode": {
    "name": "ipython",
    "version": 3
   },
   "file_extension": ".py",
   "mimetype": "text/x-python",
   "name": "python",
   "nbconvert_exporter": "python",
   "pygments_lexer": "ipython3",
   "version": "3.8.3"
  }
 },
 "nbformat": 4,
 "nbformat_minor": 2
}
