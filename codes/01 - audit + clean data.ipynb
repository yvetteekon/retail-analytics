{
 "cells": [
  {
   "cell_type": "markdown",
   "metadata": {},
   "source": [
    "## Import Modules"
   ]
  },
  {
   "cell_type": "code",
   "execution_count": 1,
   "metadata": {},
   "outputs": [],
   "source": [
    "# Set paths\n",
    "import os\n",
    "from imp import reload\n",
    "\n",
    "# Data manipulation\n",
    "import pandas as pd\n",
    "import numpy as np\n",
    "from scipy import stats\n",
    "\n",
    "# Geolocation\n",
    "import geonamescache\n",
    "\n",
    "# Custom package for data preprocessing\n",
    "import mytools as mt \n",
    "\n",
    "# Set notebook options\n",
    "pd.set_option(\"display.max_columns\", 150)\n",
    "pd.set_option(\"display.max_rows\", 10000)\n",
    "pd.set_option(\"display.float_format\", lambda x: '%.2f' % x)\n",
    "\n",
    "# Pretty display of multiple functions in a cell\n",
    "from IPython.core.interactiveshell import InteractiveShell\n",
    "InteractiveShell.ast_node_interactivity = \"all\""
   ]
  },
  {
   "cell_type": "markdown",
   "metadata": {},
   "source": [
    "### File Location"
   ]
  },
  {
   "cell_type": "code",
   "execution_count": 2,
   "metadata": {},
   "outputs": [],
   "source": [
    "# Data paths\n",
    "import filepaths"
   ]
  },
  {
   "cell_type": "markdown",
   "metadata": {},
   "source": [
    "### Create Project Directories and Sub-Directories"
   ]
  },
  {
   "cell_type": "code",
   "execution_count": 3,
   "metadata": {},
   "outputs": [
    {
     "name": "stdout",
     "output_type": "stream",
     "text": [
      "Directory  deliverables  already exists\n",
      "Directory  deprecated  already exists\n",
      "Directory  dictionary  already exists\n",
      "Directory  visualizations  already exists\n",
      "Subdirectory  data/raw  already exists\n",
      "Subdirectory  data/interim  already exists\n",
      "Subdirectory  data/external  already exists\n",
      "Subdirectory  data/processed  already exists\n"
     ]
    }
   ],
   "source": [
    "mt.create_directories(filepaths.project_parent_directory)"
   ]
  },
  {
   "cell_type": "markdown",
   "metadata": {},
   "source": [
    "## Load Data"
   ]
  },
  {
   "cell_type": "code",
   "execution_count": 4,
   "metadata": {},
   "outputs": [],
   "source": [
    "df_customer = pd.read_csv(filepaths.raw_customer_data, sep=',')\n",
    "\n",
    "df_cities = pd.read_csv(filepaths.raw_city_data, sep=',')\n",
    "\n",
    "df_us_regions = pd.read_csv(filepaths.raw_us_regions_data, sep=',')\n",
    "\n",
    "df_transactions = pd.read_csv(filepaths.raw_transactions_data, sep=',')\n",
    "\n",
    "df_products = pd.read_csv(filepaths.raw_products_data, sep=',')"
   ]
  },
  {
   "cell_type": "markdown",
   "metadata": {},
   "source": [
    "## Data Audit + Cleaning\n",
    "### Customer Data"
   ]
  },
  {
   "cell_type": "code",
   "execution_count": 5,
   "metadata": {},
   "outputs": [
    {
     "data": {
      "text/plain": [
       "0"
      ]
     },
     "execution_count": 5,
     "metadata": {},
     "output_type": "execute_result"
    },
    {
     "data": {
      "text/plain": [
       "(5647, 4)"
      ]
     },
     "execution_count": 5,
     "metadata": {},
     "output_type": "execute_result"
    },
    {
     "name": "stdout",
     "output_type": "stream",
     "text": [
      "Data has 5647 unique customer_id\n",
      "Missing data distribution:\n",
      "\n",
      "  Variable  Count  Proportion\n",
      "    gender      2        0.00\n",
      " city_code      2        0.00\n"
     ]
    },
    {
     "data": {
      "text/html": [
       "<div>\n",
       "<style scoped>\n",
       "    .dataframe tbody tr th:only-of-type {\n",
       "        vertical-align: middle;\n",
       "    }\n",
       "\n",
       "    .dataframe tbody tr th {\n",
       "        vertical-align: top;\n",
       "    }\n",
       "\n",
       "    .dataframe thead th {\n",
       "        text-align: right;\n",
       "    }\n",
       "</style>\n",
       "<table border=\"1\" class=\"dataframe\">\n",
       "  <thead>\n",
       "    <tr style=\"text-align: right;\">\n",
       "      <th></th>\n",
       "      <th>customer_id</th>\n",
       "      <th>dob</th>\n",
       "      <th>gender</th>\n",
       "      <th>city_code</th>\n",
       "    </tr>\n",
       "  </thead>\n",
       "  <tbody>\n",
       "    <tr>\n",
       "      <th>0</th>\n",
       "      <td>268408</td>\n",
       "      <td>02-01-1970</td>\n",
       "      <td>M</td>\n",
       "      <td>4.00</td>\n",
       "    </tr>\n",
       "    <tr>\n",
       "      <th>1</th>\n",
       "      <td>269696</td>\n",
       "      <td>07-01-1970</td>\n",
       "      <td>F</td>\n",
       "      <td>8.00</td>\n",
       "    </tr>\n",
       "    <tr>\n",
       "      <th>2</th>\n",
       "      <td>268159</td>\n",
       "      <td>08-01-1970</td>\n",
       "      <td>F</td>\n",
       "      <td>8.00</td>\n",
       "    </tr>\n",
       "    <tr>\n",
       "      <th>3</th>\n",
       "      <td>270181</td>\n",
       "      <td>10-01-1970</td>\n",
       "      <td>F</td>\n",
       "      <td>2.00</td>\n",
       "    </tr>\n",
       "    <tr>\n",
       "      <th>4</th>\n",
       "      <td>268073</td>\n",
       "      <td>11-01-1970</td>\n",
       "      <td>M</td>\n",
       "      <td>1.00</td>\n",
       "    </tr>\n",
       "  </tbody>\n",
       "</table>\n",
       "</div>"
      ],
      "text/plain": [
       "   customer_id         dob gender  city_code\n",
       "0       268408  02-01-1970      M       4.00\n",
       "1       269696  07-01-1970      F       8.00\n",
       "2       268159  08-01-1970      F       8.00\n",
       "3       270181  10-01-1970      F       2.00\n",
       "4       268073  11-01-1970      M       1.00"
      ]
     },
     "execution_count": 5,
     "metadata": {},
     "output_type": "execute_result"
    }
   ],
   "source": [
    "df_customer.columns = [c.lower() for c in df_customer.columns]\n",
    "df_customer.duplicated(subset=['customer_id']).sum()\n",
    "df_customer.shape\n",
    "mt.check_unique_no(df_customer, ['customer_id'])\n",
    "mt.missing_data_table(df_customer)\n",
    "df_customer.head()"
   ]
  },
  {
   "cell_type": "markdown",
   "metadata": {},
   "source": [
    " **Replace the missing values in 'gender' and 'city_code' features**"
   ]
  },
  {
   "cell_type": "code",
   "execution_count": 6,
   "metadata": {},
   "outputs": [],
   "source": [
    "df_customer['gender'] = df_customer['gender'].replace({np.nan:df_customer['gender'].mode()[0]})\n",
    "df_customer['city_code'] = df_customer['city_code'].replace({np.nan:df_customer['city_code'].mode()[0]})"
   ]
  },
  {
   "cell_type": "markdown",
   "metadata": {},
   "source": [
    "### Cities Data"
   ]
  },
  {
   "cell_type": "code",
   "execution_count": 7,
   "metadata": {},
   "outputs": [
    {
     "data": {
      "text/plain": [
       "0"
      ]
     },
     "execution_count": 7,
     "metadata": {},
     "output_type": "execute_result"
    },
    {
     "data": {
      "text/plain": [
       "(10, 2)"
      ]
     },
     "execution_count": 7,
     "metadata": {},
     "output_type": "execute_result"
    },
    {
     "name": "stdout",
     "output_type": "stream",
     "text": [
      "Data has 10 unique city_code\n",
      "There is no missing data\n"
     ]
    },
    {
     "data": {
      "text/html": [
       "<div>\n",
       "<style scoped>\n",
       "    .dataframe tbody tr th:only-of-type {\n",
       "        vertical-align: middle;\n",
       "    }\n",
       "\n",
       "    .dataframe tbody tr th {\n",
       "        vertical-align: top;\n",
       "    }\n",
       "\n",
       "    .dataframe thead th {\n",
       "        text-align: right;\n",
       "    }\n",
       "</style>\n",
       "<table border=\"1\" class=\"dataframe\">\n",
       "  <thead>\n",
       "    <tr style=\"text-align: right;\">\n",
       "      <th></th>\n",
       "      <th>city_code</th>\n",
       "      <th>city</th>\n",
       "    </tr>\n",
       "  </thead>\n",
       "  <tbody>\n",
       "    <tr>\n",
       "      <th>0</th>\n",
       "      <td>1</td>\n",
       "      <td>Arlington</td>\n",
       "    </tr>\n",
       "    <tr>\n",
       "      <th>1</th>\n",
       "      <td>2</td>\n",
       "      <td>Miami</td>\n",
       "    </tr>\n",
       "    <tr>\n",
       "      <th>2</th>\n",
       "      <td>3</td>\n",
       "      <td>Chicago</td>\n",
       "    </tr>\n",
       "    <tr>\n",
       "      <th>3</th>\n",
       "      <td>4</td>\n",
       "      <td>Pittsburgh</td>\n",
       "    </tr>\n",
       "    <tr>\n",
       "      <th>4</th>\n",
       "      <td>5</td>\n",
       "      <td>Dayton</td>\n",
       "    </tr>\n",
       "  </tbody>\n",
       "</table>\n",
       "</div>"
      ],
      "text/plain": [
       "   city_code        city\n",
       "0          1   Arlington\n",
       "1          2       Miami\n",
       "2          3     Chicago\n",
       "3          4  Pittsburgh\n",
       "4          5      Dayton"
      ]
     },
     "execution_count": 7,
     "metadata": {},
     "output_type": "execute_result"
    }
   ],
   "source": [
    "df_cities.columns = [c.lower() for c in df_cities.columns]\n",
    "df_cities.duplicated(subset=['city']).sum()\n",
    "df_cities.shape\n",
    "mt.check_unique_no(df_cities, ['city_code'])\n",
    "mt.missing_data_table(df_cities)\n",
    "df_cities.head()"
   ]
  },
  {
   "cell_type": "markdown",
   "metadata": {},
   "source": [
    "### USA Regions Data"
   ]
  },
  {
   "cell_type": "code",
   "execution_count": 8,
   "metadata": {},
   "outputs": [
    {
     "data": {
      "text/plain": [
       "0"
      ]
     },
     "execution_count": 8,
     "metadata": {},
     "output_type": "execute_result"
    },
    {
     "data": {
      "text/plain": [
       "(51, 4)"
      ]
     },
     "execution_count": 8,
     "metadata": {},
     "output_type": "execute_result"
    },
    {
     "name": "stdout",
     "output_type": "stream",
     "text": [
      "There is no missing data\n"
     ]
    },
    {
     "data": {
      "text/html": [
       "<div>\n",
       "<style scoped>\n",
       "    .dataframe tbody tr th:only-of-type {\n",
       "        vertical-align: middle;\n",
       "    }\n",
       "\n",
       "    .dataframe tbody tr th {\n",
       "        vertical-align: top;\n",
       "    }\n",
       "\n",
       "    .dataframe thead th {\n",
       "        text-align: right;\n",
       "    }\n",
       "</style>\n",
       "<table border=\"1\" class=\"dataframe\">\n",
       "  <thead>\n",
       "    <tr style=\"text-align: right;\">\n",
       "      <th></th>\n",
       "      <th>state</th>\n",
       "      <th>state code</th>\n",
       "      <th>region</th>\n",
       "      <th>division</th>\n",
       "    </tr>\n",
       "  </thead>\n",
       "  <tbody>\n",
       "    <tr>\n",
       "      <th>0</th>\n",
       "      <td>Alaska</td>\n",
       "      <td>AK</td>\n",
       "      <td>West</td>\n",
       "      <td>Pacific</td>\n",
       "    </tr>\n",
       "    <tr>\n",
       "      <th>1</th>\n",
       "      <td>Alabama</td>\n",
       "      <td>AL</td>\n",
       "      <td>South</td>\n",
       "      <td>East South Central</td>\n",
       "    </tr>\n",
       "    <tr>\n",
       "      <th>2</th>\n",
       "      <td>Arkansas</td>\n",
       "      <td>AR</td>\n",
       "      <td>South</td>\n",
       "      <td>West South Central</td>\n",
       "    </tr>\n",
       "    <tr>\n",
       "      <th>3</th>\n",
       "      <td>Arizona</td>\n",
       "      <td>AZ</td>\n",
       "      <td>West</td>\n",
       "      <td>Mountain</td>\n",
       "    </tr>\n",
       "    <tr>\n",
       "      <th>4</th>\n",
       "      <td>California</td>\n",
       "      <td>CA</td>\n",
       "      <td>West</td>\n",
       "      <td>Pacific</td>\n",
       "    </tr>\n",
       "  </tbody>\n",
       "</table>\n",
       "</div>"
      ],
      "text/plain": [
       "        state state code region            division\n",
       "0      Alaska         AK   West             Pacific\n",
       "1     Alabama         AL  South  East South Central\n",
       "2    Arkansas         AR  South  West South Central\n",
       "3     Arizona         AZ   West            Mountain\n",
       "4  California         CA   West             Pacific"
      ]
     },
     "execution_count": 8,
     "metadata": {},
     "output_type": "execute_result"
    }
   ],
   "source": [
    "df_us_regions.columns = [c.lower() for c in df_us_regions.columns]\n",
    "df_us_regions.duplicated(subset=['state']).sum()\n",
    "df_us_regions.shape\n",
    "mt.missing_data_table(df_us_regions)\n",
    "df_us_regions.head()"
   ]
  },
  {
   "cell_type": "markdown",
   "metadata": {},
   "source": [
    "### Products Data"
   ]
  },
  {
   "cell_type": "code",
   "execution_count": 9,
   "metadata": {},
   "outputs": [
    {
     "name": "stdout",
     "output_type": "stream",
     "text": [
      "There is no missing data\n"
     ]
    },
    {
     "data": {
      "text/html": [
       "<div>\n",
       "<style scoped>\n",
       "    .dataframe tbody tr th:only-of-type {\n",
       "        vertical-align: middle;\n",
       "    }\n",
       "\n",
       "    .dataframe tbody tr th {\n",
       "        vertical-align: top;\n",
       "    }\n",
       "\n",
       "    .dataframe thead th {\n",
       "        text-align: right;\n",
       "    }\n",
       "</style>\n",
       "<table border=\"1\" class=\"dataframe\">\n",
       "  <thead>\n",
       "    <tr style=\"text-align: right;\">\n",
       "      <th></th>\n",
       "      <th>prod_cat_code</th>\n",
       "      <th>prod_cat</th>\n",
       "      <th>prod_subcat_code</th>\n",
       "      <th>prod_subcat</th>\n",
       "      <th>counter</th>\n",
       "    </tr>\n",
       "  </thead>\n",
       "  <tbody>\n",
       "    <tr>\n",
       "      <th>0</th>\n",
       "      <td>1</td>\n",
       "      <td>Clothing</td>\n",
       "      <td>4</td>\n",
       "      <td>Mens</td>\n",
       "      <td>1</td>\n",
       "    </tr>\n",
       "    <tr>\n",
       "      <th>1</th>\n",
       "      <td>1</td>\n",
       "      <td>Clothing</td>\n",
       "      <td>1</td>\n",
       "      <td>Women</td>\n",
       "      <td>1</td>\n",
       "    </tr>\n",
       "    <tr>\n",
       "      <th>2</th>\n",
       "      <td>1</td>\n",
       "      <td>Clothing</td>\n",
       "      <td>3</td>\n",
       "      <td>Kids</td>\n",
       "      <td>1</td>\n",
       "    </tr>\n",
       "    <tr>\n",
       "      <th>3</th>\n",
       "      <td>2</td>\n",
       "      <td>Footwear</td>\n",
       "      <td>1</td>\n",
       "      <td>Mens</td>\n",
       "      <td>1</td>\n",
       "    </tr>\n",
       "    <tr>\n",
       "      <th>4</th>\n",
       "      <td>2</td>\n",
       "      <td>Footwear</td>\n",
       "      <td>3</td>\n",
       "      <td>Women</td>\n",
       "      <td>1</td>\n",
       "    </tr>\n",
       "  </tbody>\n",
       "</table>\n",
       "</div>"
      ],
      "text/plain": [
       "   prod_cat_code  prod_cat  prod_subcat_code prod_subcat  counter\n",
       "0              1  Clothing                 4        Mens        1\n",
       "1              1  Clothing                 1       Women        1\n",
       "2              1  Clothing                 3        Kids        1\n",
       "3              2  Footwear                 1        Mens        1\n",
       "4              2  Footwear                 3       Women        1"
      ]
     },
     "execution_count": 9,
     "metadata": {},
     "output_type": "execute_result"
    }
   ],
   "source": [
    "df_products.rename(columns={'prod_sub_cat_code':'prod_subcat_code'}, inplace=True)\n",
    "df_products['counter'] = 1\n",
    "mt.missing_data_table(df_products)\n",
    "df_products.head()"
   ]
  },
  {
   "cell_type": "code",
   "execution_count": 10,
   "metadata": {},
   "outputs": [],
   "source": [
    "prod_cat_dict = dict(zip(df_products['prod_cat_code'],df_products['prod_cat']))\n",
    "prod_subcat_dict = dict(zip(df_products['prod_subcat_code'],df_products['prod_subcat']))"
   ]
  },
  {
   "cell_type": "markdown",
   "metadata": {},
   "source": [
    "### Transactions Data"
   ]
  },
  {
   "cell_type": "code",
   "execution_count": 11,
   "metadata": {},
   "outputs": [
    {
     "data": {
      "text/plain": [
       "2175"
      ]
     },
     "execution_count": 11,
     "metadata": {},
     "output_type": "execute_result"
    },
    {
     "data": {
      "text/plain": [
       "(23053, 10)"
      ]
     },
     "execution_count": 11,
     "metadata": {},
     "output_type": "execute_result"
    },
    {
     "name": "stdout",
     "output_type": "stream",
     "text": [
      "Data has 5506 unique customer_id\n",
      "Data has 20878 unique trans_id\n",
      "There is no missing data\n"
     ]
    },
    {
     "data": {
      "text/html": [
       "<div>\n",
       "<style scoped>\n",
       "    .dataframe tbody tr th:only-of-type {\n",
       "        vertical-align: middle;\n",
       "    }\n",
       "\n",
       "    .dataframe tbody tr th {\n",
       "        vertical-align: top;\n",
       "    }\n",
       "\n",
       "    .dataframe thead th {\n",
       "        text-align: right;\n",
       "    }\n",
       "</style>\n",
       "<table border=\"1\" class=\"dataframe\">\n",
       "  <thead>\n",
       "    <tr style=\"text-align: right;\">\n",
       "      <th></th>\n",
       "      <th>trans_id</th>\n",
       "      <th>customer_id</th>\n",
       "      <th>trans_date</th>\n",
       "      <th>prod_subcat_code</th>\n",
       "      <th>prod_cat_code</th>\n",
       "      <th>qty</th>\n",
       "      <th>rate</th>\n",
       "      <th>tax</th>\n",
       "      <th>total_amt</th>\n",
       "      <th>store_type</th>\n",
       "    </tr>\n",
       "  </thead>\n",
       "  <tbody>\n",
       "    <tr>\n",
       "      <th>0</th>\n",
       "      <td>80712190438</td>\n",
       "      <td>270351</td>\n",
       "      <td>28-02-2014</td>\n",
       "      <td>1</td>\n",
       "      <td>1</td>\n",
       "      <td>-5</td>\n",
       "      <td>-772</td>\n",
       "      <td>405.30</td>\n",
       "      <td>-4265.30</td>\n",
       "      <td>e-Shop</td>\n",
       "    </tr>\n",
       "    <tr>\n",
       "      <th>1</th>\n",
       "      <td>29258453508</td>\n",
       "      <td>270384</td>\n",
       "      <td>27-02-2014</td>\n",
       "      <td>5</td>\n",
       "      <td>3</td>\n",
       "      <td>-5</td>\n",
       "      <td>-1497</td>\n",
       "      <td>785.92</td>\n",
       "      <td>-8270.92</td>\n",
       "      <td>e-Shop</td>\n",
       "    </tr>\n",
       "    <tr>\n",
       "      <th>2</th>\n",
       "      <td>51750724947</td>\n",
       "      <td>273420</td>\n",
       "      <td>24-02-2014</td>\n",
       "      <td>6</td>\n",
       "      <td>5</td>\n",
       "      <td>-2</td>\n",
       "      <td>-791</td>\n",
       "      <td>166.11</td>\n",
       "      <td>-1748.11</td>\n",
       "      <td>TeleShop</td>\n",
       "    </tr>\n",
       "    <tr>\n",
       "      <th>3</th>\n",
       "      <td>93274880719</td>\n",
       "      <td>271509</td>\n",
       "      <td>24-02-2014</td>\n",
       "      <td>11</td>\n",
       "      <td>6</td>\n",
       "      <td>-3</td>\n",
       "      <td>-1363</td>\n",
       "      <td>429.35</td>\n",
       "      <td>-4518.35</td>\n",
       "      <td>e-Shop</td>\n",
       "    </tr>\n",
       "    <tr>\n",
       "      <th>4</th>\n",
       "      <td>51750724947</td>\n",
       "      <td>273420</td>\n",
       "      <td>23-02-2014</td>\n",
       "      <td>6</td>\n",
       "      <td>5</td>\n",
       "      <td>-2</td>\n",
       "      <td>-791</td>\n",
       "      <td>166.11</td>\n",
       "      <td>-1748.11</td>\n",
       "      <td>TeleShop</td>\n",
       "    </tr>\n",
       "  </tbody>\n",
       "</table>\n",
       "</div>"
      ],
      "text/plain": [
       "      trans_id  customer_id  trans_date  prod_subcat_code  prod_cat_code  qty  \\\n",
       "0  80712190438       270351  28-02-2014                 1              1   -5   \n",
       "1  29258453508       270384  27-02-2014                 5              3   -5   \n",
       "2  51750724947       273420  24-02-2014                 6              5   -2   \n",
       "3  93274880719       271509  24-02-2014                11              6   -3   \n",
       "4  51750724947       273420  23-02-2014                 6              5   -2   \n",
       "\n",
       "   rate    tax  total_amt store_type  \n",
       "0  -772 405.30   -4265.30     e-Shop  \n",
       "1 -1497 785.92   -8270.92     e-Shop  \n",
       "2  -791 166.11   -1748.11   TeleShop  \n",
       "3 -1363 429.35   -4518.35     e-Shop  \n",
       "4  -791 166.11   -1748.11   TeleShop  "
      ]
     },
     "execution_count": 11,
     "metadata": {},
     "output_type": "execute_result"
    },
    {
     "data": {
      "text/html": [
       "<div>\n",
       "<style scoped>\n",
       "    .dataframe tbody tr th:only-of-type {\n",
       "        vertical-align: middle;\n",
       "    }\n",
       "\n",
       "    .dataframe tbody tr th {\n",
       "        vertical-align: top;\n",
       "    }\n",
       "\n",
       "    .dataframe thead th {\n",
       "        text-align: right;\n",
       "    }\n",
       "</style>\n",
       "<table border=\"1\" class=\"dataframe\">\n",
       "  <thead>\n",
       "    <tr style=\"text-align: right;\">\n",
       "      <th></th>\n",
       "      <th>trans_id</th>\n",
       "      <th>customer_id</th>\n",
       "      <th>prod_subcat_code</th>\n",
       "      <th>prod_cat_code</th>\n",
       "      <th>qty</th>\n",
       "      <th>rate</th>\n",
       "      <th>tax</th>\n",
       "      <th>total_amt</th>\n",
       "    </tr>\n",
       "  </thead>\n",
       "  <tbody>\n",
       "    <tr>\n",
       "      <th>count</th>\n",
       "      <td>23053.00</td>\n",
       "      <td>23053.00</td>\n",
       "      <td>23053.00</td>\n",
       "      <td>23053.00</td>\n",
       "      <td>23053.00</td>\n",
       "      <td>23053.00</td>\n",
       "      <td>23053.00</td>\n",
       "      <td>23053.00</td>\n",
       "    </tr>\n",
       "    <tr>\n",
       "      <th>mean</th>\n",
       "      <td>50073480358.45</td>\n",
       "      <td>271021.75</td>\n",
       "      <td>6.15</td>\n",
       "      <td>3.76</td>\n",
       "      <td>2.43</td>\n",
       "      <td>636.37</td>\n",
       "      <td>248.67</td>\n",
       "      <td>2107.31</td>\n",
       "    </tr>\n",
       "    <tr>\n",
       "      <th>std</th>\n",
       "      <td>28981936062.00</td>\n",
       "      <td>2431.69</td>\n",
       "      <td>3.73</td>\n",
       "      <td>1.68</td>\n",
       "      <td>2.27</td>\n",
       "      <td>622.36</td>\n",
       "      <td>187.18</td>\n",
       "      <td>2507.56</td>\n",
       "    </tr>\n",
       "    <tr>\n",
       "      <th>min</th>\n",
       "      <td>3268991.00</td>\n",
       "      <td>266783.00</td>\n",
       "      <td>1.00</td>\n",
       "      <td>1.00</td>\n",
       "      <td>-5.00</td>\n",
       "      <td>-1499.00</td>\n",
       "      <td>7.35</td>\n",
       "      <td>-8270.92</td>\n",
       "    </tr>\n",
       "    <tr>\n",
       "      <th>25%</th>\n",
       "      <td>24938639453.00</td>\n",
       "      <td>268935.00</td>\n",
       "      <td>3.00</td>\n",
       "      <td>2.00</td>\n",
       "      <td>1.00</td>\n",
       "      <td>312.00</td>\n",
       "      <td>98.28</td>\n",
       "      <td>762.45</td>\n",
       "    </tr>\n",
       "    <tr>\n",
       "      <th>50%</th>\n",
       "      <td>50093131361.00</td>\n",
       "      <td>270980.00</td>\n",
       "      <td>5.00</td>\n",
       "      <td>4.00</td>\n",
       "      <td>3.00</td>\n",
       "      <td>710.00</td>\n",
       "      <td>199.08</td>\n",
       "      <td>1754.74</td>\n",
       "    </tr>\n",
       "    <tr>\n",
       "      <th>75%</th>\n",
       "      <td>75329995679.00</td>\n",
       "      <td>273114.00</td>\n",
       "      <td>10.00</td>\n",
       "      <td>5.00</td>\n",
       "      <td>4.00</td>\n",
       "      <td>1109.00</td>\n",
       "      <td>365.71</td>\n",
       "      <td>3569.15</td>\n",
       "    </tr>\n",
       "    <tr>\n",
       "      <th>max</th>\n",
       "      <td>99987549630.00</td>\n",
       "      <td>275265.00</td>\n",
       "      <td>12.00</td>\n",
       "      <td>6.00</td>\n",
       "      <td>5.00</td>\n",
       "      <td>1500.00</td>\n",
       "      <td>787.50</td>\n",
       "      <td>8287.50</td>\n",
       "    </tr>\n",
       "  </tbody>\n",
       "</table>\n",
       "</div>"
      ],
      "text/plain": [
       "            trans_id  customer_id  prod_subcat_code  prod_cat_code      qty  \\\n",
       "count       23053.00     23053.00          23053.00       23053.00 23053.00   \n",
       "mean  50073480358.45    271021.75              6.15           3.76     2.43   \n",
       "std   28981936062.00      2431.69              3.73           1.68     2.27   \n",
       "min       3268991.00    266783.00              1.00           1.00    -5.00   \n",
       "25%   24938639453.00    268935.00              3.00           2.00     1.00   \n",
       "50%   50093131361.00    270980.00              5.00           4.00     3.00   \n",
       "75%   75329995679.00    273114.00             10.00           5.00     4.00   \n",
       "max   99987549630.00    275265.00             12.00           6.00     5.00   \n",
       "\n",
       "          rate      tax  total_amt  \n",
       "count 23053.00 23053.00   23053.00  \n",
       "mean    636.37   248.67    2107.31  \n",
       "std     622.36   187.18    2507.56  \n",
       "min   -1499.00     7.35   -8270.92  \n",
       "25%     312.00    98.28     762.45  \n",
       "50%     710.00   199.08    1754.74  \n",
       "75%    1109.00   365.71    3569.15  \n",
       "max    1500.00   787.50    8287.50  "
      ]
     },
     "execution_count": 11,
     "metadata": {},
     "output_type": "execute_result"
    }
   ],
   "source": [
    "df_transactions.columns = [c.lower() for c in df_transactions.columns]\n",
    "df_transactions.rename(columns={'transaction_id':'trans_id', 'cust_id':'customer_id', 'tran_date':'trans_date'}, inplace=True)\n",
    "df_transactions.duplicated(subset=['trans_id']).sum()\n",
    "df_transactions.shape\n",
    "mt.check_unique_no(df_transactions, ['customer_id', 'trans_id'])\n",
    "mt.missing_data_table(df_transactions)\n",
    "df_transactions.head()\n",
    "df_transactions.describe()"
   ]
  },
  {
   "cell_type": "code",
   "execution_count": 12,
   "metadata": {},
   "outputs": [
    {
     "data": {
      "text/plain": [
       "426787191      4\n",
       "4170892941     4\n",
       "32263938079    4\n",
       "3130889793     3\n",
       "42255136382    3\n",
       "Name: trans_id, dtype: int64"
      ]
     },
     "execution_count": 12,
     "metadata": {},
     "output_type": "execute_result"
    }
   ],
   "source": [
    "df_transactions['trans_id'].value_counts(dropna=False).head()"
   ]
  },
  {
   "cell_type": "code",
   "execution_count": 13,
   "metadata": {},
   "outputs": [
    {
     "data": {
      "text/html": [
       "<div>\n",
       "<style scoped>\n",
       "    .dataframe tbody tr th:only-of-type {\n",
       "        vertical-align: middle;\n",
       "    }\n",
       "\n",
       "    .dataframe tbody tr th {\n",
       "        vertical-align: top;\n",
       "    }\n",
       "\n",
       "    .dataframe thead th {\n",
       "        text-align: right;\n",
       "    }\n",
       "</style>\n",
       "<table border=\"1\" class=\"dataframe\">\n",
       "  <thead>\n",
       "    <tr style=\"text-align: right;\">\n",
       "      <th></th>\n",
       "      <th>trans_id</th>\n",
       "      <th>customer_id</th>\n",
       "      <th>trans_date</th>\n",
       "      <th>prod_subcat_code</th>\n",
       "      <th>prod_cat_code</th>\n",
       "      <th>qty</th>\n",
       "      <th>rate</th>\n",
       "      <th>tax</th>\n",
       "      <th>total_amt</th>\n",
       "      <th>store_type</th>\n",
       "    </tr>\n",
       "  </thead>\n",
       "  <tbody>\n",
       "    <tr>\n",
       "      <th>16207</th>\n",
       "      <td>4170892941</td>\n",
       "      <td>266852</td>\n",
       "      <td>24-12-2011</td>\n",
       "      <td>8</td>\n",
       "      <td>3</td>\n",
       "      <td>-1</td>\n",
       "      <td>-412</td>\n",
       "      <td>43.26</td>\n",
       "      <td>-455.26</td>\n",
       "      <td>MBR</td>\n",
       "    </tr>\n",
       "    <tr>\n",
       "      <th>16267</th>\n",
       "      <td>4170892941</td>\n",
       "      <td>266852</td>\n",
       "      <td>21-12-2011</td>\n",
       "      <td>8</td>\n",
       "      <td>3</td>\n",
       "      <td>-1</td>\n",
       "      <td>-412</td>\n",
       "      <td>43.26</td>\n",
       "      <td>-455.26</td>\n",
       "      <td>MBR</td>\n",
       "    </tr>\n",
       "    <tr>\n",
       "      <th>16269</th>\n",
       "      <td>4170892941</td>\n",
       "      <td>266852</td>\n",
       "      <td>21-12-2011</td>\n",
       "      <td>8</td>\n",
       "      <td>3</td>\n",
       "      <td>-1</td>\n",
       "      <td>-412</td>\n",
       "      <td>43.26</td>\n",
       "      <td>-455.26</td>\n",
       "      <td>MBR</td>\n",
       "    </tr>\n",
       "    <tr>\n",
       "      <th>16288</th>\n",
       "      <td>4170892941</td>\n",
       "      <td>266852</td>\n",
       "      <td>20-12-2011</td>\n",
       "      <td>8</td>\n",
       "      <td>3</td>\n",
       "      <td>1</td>\n",
       "      <td>412</td>\n",
       "      <td>43.26</td>\n",
       "      <td>455.26</td>\n",
       "      <td>MBR</td>\n",
       "    </tr>\n",
       "  </tbody>\n",
       "</table>\n",
       "</div>"
      ],
      "text/plain": [
       "         trans_id  customer_id  trans_date  prod_subcat_code  prod_cat_code  \\\n",
       "16207  4170892941       266852  24-12-2011                 8              3   \n",
       "16267  4170892941       266852  21-12-2011                 8              3   \n",
       "16269  4170892941       266852  21-12-2011                 8              3   \n",
       "16288  4170892941       266852  20-12-2011                 8              3   \n",
       "\n",
       "       qty  rate   tax  total_amt store_type  \n",
       "16207   -1  -412 43.26    -455.26        MBR  \n",
       "16267   -1  -412 43.26    -455.26        MBR  \n",
       "16269   -1  -412 43.26    -455.26        MBR  \n",
       "16288    1   412 43.26     455.26        MBR  "
      ]
     },
     "execution_count": 13,
     "metadata": {},
     "output_type": "execute_result"
    }
   ],
   "source": [
    "df_transactions[df_transactions['trans_id'] == 4170892941]"
   ]
  },
  {
   "cell_type": "code",
   "execution_count": 14,
   "metadata": {},
   "outputs": [
    {
     "data": {
      "text/html": [
       "<div>\n",
       "<style scoped>\n",
       "    .dataframe tbody tr th:only-of-type {\n",
       "        vertical-align: middle;\n",
       "    }\n",
       "\n",
       "    .dataframe tbody tr th {\n",
       "        vertical-align: top;\n",
       "    }\n",
       "\n",
       "    .dataframe thead th {\n",
       "        text-align: right;\n",
       "    }\n",
       "</style>\n",
       "<table border=\"1\" class=\"dataframe\">\n",
       "  <thead>\n",
       "    <tr style=\"text-align: right;\">\n",
       "      <th></th>\n",
       "      <th>trans_id</th>\n",
       "      <th>customer_id</th>\n",
       "      <th>trans_date</th>\n",
       "      <th>prod_subcat_code</th>\n",
       "      <th>prod_cat_code</th>\n",
       "      <th>qty</th>\n",
       "      <th>rate</th>\n",
       "      <th>tax</th>\n",
       "      <th>total_amt</th>\n",
       "      <th>store_type</th>\n",
       "    </tr>\n",
       "  </thead>\n",
       "  <tbody>\n",
       "    <tr>\n",
       "      <th>8514</th>\n",
       "      <td>37550766365</td>\n",
       "      <td>266852</td>\n",
       "      <td>1/1/2013</td>\n",
       "      <td>3</td>\n",
       "      <td>1</td>\n",
       "      <td>3</td>\n",
       "      <td>1125</td>\n",
       "      <td>354.38</td>\n",
       "      <td>3729.38</td>\n",
       "      <td>e-Shop</td>\n",
       "    </tr>\n",
       "    <tr>\n",
       "      <th>15309</th>\n",
       "      <td>6136914509</td>\n",
       "      <td>266852</td>\n",
       "      <td>8/2/2012</td>\n",
       "      <td>3</td>\n",
       "      <td>2</td>\n",
       "      <td>1</td>\n",
       "      <td>1211</td>\n",
       "      <td>127.16</td>\n",
       "      <td>1338.15</td>\n",
       "      <td>e-Shop</td>\n",
       "    </tr>\n",
       "    <tr>\n",
       "      <th>15676</th>\n",
       "      <td>99967775192</td>\n",
       "      <td>266852</td>\n",
       "      <td>20-01-2012</td>\n",
       "      <td>2</td>\n",
       "      <td>6</td>\n",
       "      <td>2</td>\n",
       "      <td>539</td>\n",
       "      <td>113.19</td>\n",
       "      <td>1191.19</td>\n",
       "      <td>Flagship store</td>\n",
       "    </tr>\n",
       "    <tr>\n",
       "      <th>16207</th>\n",
       "      <td>4170892941</td>\n",
       "      <td>266852</td>\n",
       "      <td>24-12-2011</td>\n",
       "      <td>8</td>\n",
       "      <td>3</td>\n",
       "      <td>-1</td>\n",
       "      <td>-412</td>\n",
       "      <td>43.26</td>\n",
       "      <td>-455.26</td>\n",
       "      <td>MBR</td>\n",
       "    </tr>\n",
       "    <tr>\n",
       "      <th>16267</th>\n",
       "      <td>4170892941</td>\n",
       "      <td>266852</td>\n",
       "      <td>21-12-2011</td>\n",
       "      <td>8</td>\n",
       "      <td>3</td>\n",
       "      <td>-1</td>\n",
       "      <td>-412</td>\n",
       "      <td>43.26</td>\n",
       "      <td>-455.26</td>\n",
       "      <td>MBR</td>\n",
       "    </tr>\n",
       "    <tr>\n",
       "      <th>16269</th>\n",
       "      <td>4170892941</td>\n",
       "      <td>266852</td>\n",
       "      <td>21-12-2011</td>\n",
       "      <td>8</td>\n",
       "      <td>3</td>\n",
       "      <td>-1</td>\n",
       "      <td>-412</td>\n",
       "      <td>43.26</td>\n",
       "      <td>-455.26</td>\n",
       "      <td>MBR</td>\n",
       "    </tr>\n",
       "    <tr>\n",
       "      <th>16288</th>\n",
       "      <td>4170892941</td>\n",
       "      <td>266852</td>\n",
       "      <td>20-12-2011</td>\n",
       "      <td>8</td>\n",
       "      <td>3</td>\n",
       "      <td>1</td>\n",
       "      <td>412</td>\n",
       "      <td>43.26</td>\n",
       "      <td>455.26</td>\n",
       "      <td>MBR</td>\n",
       "    </tr>\n",
       "  </tbody>\n",
       "</table>\n",
       "</div>"
      ],
      "text/plain": [
       "          trans_id  customer_id  trans_date  prod_subcat_code  prod_cat_code  \\\n",
       "8514   37550766365       266852    1/1/2013                 3              1   \n",
       "15309   6136914509       266852    8/2/2012                 3              2   \n",
       "15676  99967775192       266852  20-01-2012                 2              6   \n",
       "16207   4170892941       266852  24-12-2011                 8              3   \n",
       "16267   4170892941       266852  21-12-2011                 8              3   \n",
       "16269   4170892941       266852  21-12-2011                 8              3   \n",
       "16288   4170892941       266852  20-12-2011                 8              3   \n",
       "\n",
       "       qty  rate    tax  total_amt      store_type  \n",
       "8514     3  1125 354.38    3729.38          e-Shop  \n",
       "15309    1  1211 127.16    1338.15          e-Shop  \n",
       "15676    2   539 113.19    1191.19  Flagship store  \n",
       "16207   -1  -412  43.26    -455.26             MBR  \n",
       "16267   -1  -412  43.26    -455.26             MBR  \n",
       "16269   -1  -412  43.26    -455.26             MBR  \n",
       "16288    1   412  43.26     455.26             MBR  "
      ]
     },
     "execution_count": 14,
     "metadata": {},
     "output_type": "execute_result"
    }
   ],
   "source": [
    "df_transactions[df_transactions['customer_id'] == 266852]"
   ]
  },
  {
   "cell_type": "markdown",
   "metadata": {},
   "source": [
    "**Merge products data with transactions data**"
   ]
  },
  {
   "cell_type": "code",
   "execution_count": 15,
   "metadata": {
    "scrolled": true
   },
   "outputs": [
    {
     "data": {
      "text/html": [
       "<div>\n",
       "<style scoped>\n",
       "    .dataframe tbody tr th:only-of-type {\n",
       "        vertical-align: middle;\n",
       "    }\n",
       "\n",
       "    .dataframe tbody tr th {\n",
       "        vertical-align: top;\n",
       "    }\n",
       "\n",
       "    .dataframe thead th {\n",
       "        text-align: right;\n",
       "    }\n",
       "</style>\n",
       "<table border=\"1\" class=\"dataframe\">\n",
       "  <thead>\n",
       "    <tr style=\"text-align: right;\">\n",
       "      <th></th>\n",
       "      <th>trans_id</th>\n",
       "      <th>customer_id</th>\n",
       "      <th>trans_date</th>\n",
       "      <th>prod_subcat_code</th>\n",
       "      <th>prod_cat_code</th>\n",
       "      <th>qty</th>\n",
       "      <th>rate</th>\n",
       "      <th>tax</th>\n",
       "      <th>total_amt</th>\n",
       "      <th>store_type</th>\n",
       "      <th>prod_cat</th>\n",
       "      <th>prod_subcat</th>\n",
       "      <th>counter</th>\n",
       "      <th>product</th>\n",
       "    </tr>\n",
       "  </thead>\n",
       "  <tbody>\n",
       "    <tr>\n",
       "      <th>0</th>\n",
       "      <td>80712190438</td>\n",
       "      <td>270351</td>\n",
       "      <td>28-02-2014</td>\n",
       "      <td>1</td>\n",
       "      <td>1</td>\n",
       "      <td>-5</td>\n",
       "      <td>-772</td>\n",
       "      <td>405.30</td>\n",
       "      <td>-4265.30</td>\n",
       "      <td>e-Shop</td>\n",
       "      <td>Clothing</td>\n",
       "      <td>Women</td>\n",
       "      <td>1</td>\n",
       "      <td>Clothing_Women</td>\n",
       "    </tr>\n",
       "    <tr>\n",
       "      <th>1</th>\n",
       "      <td>29258453508</td>\n",
       "      <td>270384</td>\n",
       "      <td>27-02-2014</td>\n",
       "      <td>5</td>\n",
       "      <td>3</td>\n",
       "      <td>-5</td>\n",
       "      <td>-1497</td>\n",
       "      <td>785.92</td>\n",
       "      <td>-8270.92</td>\n",
       "      <td>e-Shop</td>\n",
       "      <td>Electronics</td>\n",
       "      <td>Computers</td>\n",
       "      <td>1</td>\n",
       "      <td>Electronics_Computers</td>\n",
       "    </tr>\n",
       "    <tr>\n",
       "      <th>2</th>\n",
       "      <td>51750724947</td>\n",
       "      <td>273420</td>\n",
       "      <td>24-02-2014</td>\n",
       "      <td>6</td>\n",
       "      <td>5</td>\n",
       "      <td>-2</td>\n",
       "      <td>-791</td>\n",
       "      <td>166.11</td>\n",
       "      <td>-1748.11</td>\n",
       "      <td>TeleShop</td>\n",
       "      <td>Books</td>\n",
       "      <td>DIY</td>\n",
       "      <td>1</td>\n",
       "      <td>Books_DIY</td>\n",
       "    </tr>\n",
       "    <tr>\n",
       "      <th>3</th>\n",
       "      <td>93274880719</td>\n",
       "      <td>271509</td>\n",
       "      <td>24-02-2014</td>\n",
       "      <td>11</td>\n",
       "      <td>6</td>\n",
       "      <td>-3</td>\n",
       "      <td>-1363</td>\n",
       "      <td>429.35</td>\n",
       "      <td>-4518.35</td>\n",
       "      <td>e-Shop</td>\n",
       "      <td>Home and kitchen</td>\n",
       "      <td>Bath</td>\n",
       "      <td>1</td>\n",
       "      <td>Home and kitchen_Bath</td>\n",
       "    </tr>\n",
       "    <tr>\n",
       "      <th>4</th>\n",
       "      <td>51750724947</td>\n",
       "      <td>273420</td>\n",
       "      <td>23-02-2014</td>\n",
       "      <td>6</td>\n",
       "      <td>5</td>\n",
       "      <td>-2</td>\n",
       "      <td>-791</td>\n",
       "      <td>166.11</td>\n",
       "      <td>-1748.11</td>\n",
       "      <td>TeleShop</td>\n",
       "      <td>Books</td>\n",
       "      <td>DIY</td>\n",
       "      <td>1</td>\n",
       "      <td>Books_DIY</td>\n",
       "    </tr>\n",
       "  </tbody>\n",
       "</table>\n",
       "</div>"
      ],
      "text/plain": [
       "      trans_id  customer_id  trans_date  prod_subcat_code  prod_cat_code  qty  \\\n",
       "0  80712190438       270351  28-02-2014                 1              1   -5   \n",
       "1  29258453508       270384  27-02-2014                 5              3   -5   \n",
       "2  51750724947       273420  24-02-2014                 6              5   -2   \n",
       "3  93274880719       271509  24-02-2014                11              6   -3   \n",
       "4  51750724947       273420  23-02-2014                 6              5   -2   \n",
       "\n",
       "   rate    tax  total_amt store_type          prod_cat prod_subcat  counter  \\\n",
       "0  -772 405.30   -4265.30     e-Shop          Clothing       Women        1   \n",
       "1 -1497 785.92   -8270.92     e-Shop       Electronics   Computers        1   \n",
       "2  -791 166.11   -1748.11   TeleShop             Books         DIY        1   \n",
       "3 -1363 429.35   -4518.35     e-Shop  Home and kitchen        Bath        1   \n",
       "4  -791 166.11   -1748.11   TeleShop             Books         DIY        1   \n",
       "\n",
       "                 product  \n",
       "0         Clothing_Women  \n",
       "1  Electronics_Computers  \n",
       "2              Books_DIY  \n",
       "3  Home and kitchen_Bath  \n",
       "4              Books_DIY  "
      ]
     },
     "execution_count": 15,
     "metadata": {},
     "output_type": "execute_result"
    }
   ],
   "source": [
    "df_transactions = pd.merge(df_transactions, df_products, on=['prod_cat_code', 'prod_subcat_code'], how='left')\n",
    "df_transactions['product'] = df_transactions['prod_cat'] + '_' + df_transactions['prod_subcat']\n",
    "df_transactions.head()"
   ]
  },
  {
   "cell_type": "markdown",
   "metadata": {},
   "source": [
    "**Tag transactions where items where returned**"
   ]
  },
  {
   "cell_type": "code",
   "execution_count": 16,
   "metadata": {},
   "outputs": [
    {
     "data": {
      "text/plain": [
       "2057"
      ]
     },
     "execution_count": 16,
     "metadata": {},
     "output_type": "execute_result"
    }
   ],
   "source": [
    "returned_item = df_transactions['trans_id'].value_counts(dropna=False)[df_transactions['trans_id'].value_counts(dropna=False).values > 1].index.unique();\n",
    "len(returned_item)"
   ]
  },
  {
   "cell_type": "code",
   "execution_count": 17,
   "metadata": {},
   "outputs": [
    {
     "data": {
      "text/plain": [
       "no     18821\n",
       "yes     4232\n",
       "Name: returned_item, dtype: int64"
      ]
     },
     "execution_count": 17,
     "metadata": {},
     "output_type": "execute_result"
    }
   ],
   "source": [
    "df_transactions['returned_item'] = np.where(df_transactions['trans_id'].isin(returned_item), 'yes', 'no')\n",
    "df_transactions['returned_item'].value_counts(dropna=False)"
   ]
  },
  {
   "cell_type": "markdown",
   "metadata": {},
   "source": [
    "**Drop transaction records (with negative qty) of items returned**"
   ]
  },
  {
   "cell_type": "code",
   "execution_count": 18,
   "metadata": {},
   "outputs": [
    {
     "data": {
      "text/plain": [
       "count   20876.00\n",
       "mean        3.00\n",
       "std         1.42\n",
       "min         1.00\n",
       "25%         2.00\n",
       "50%         3.00\n",
       "75%         4.00\n",
       "max         5.00\n",
       "Name: qty, dtype: float64"
      ]
     },
     "execution_count": 18,
     "metadata": {},
     "output_type": "execute_result"
    },
    {
     "data": {
      "text/plain": [
       "0"
      ]
     },
     "execution_count": 18,
     "metadata": {},
     "output_type": "execute_result"
    },
    {
     "name": "stdout",
     "output_type": "stream",
     "text": [
      "Data has 5506 unique customer_id\n",
      "Data has 20876 unique trans_id\n"
     ]
    },
    {
     "data": {
      "text/plain": [
       "(20876, 15)"
      ]
     },
     "execution_count": 18,
     "metadata": {},
     "output_type": "execute_result"
    }
   ],
   "source": [
    "df_transactions = df_transactions[~(df_transactions['qty'] < 0)]\n",
    "df_transactions['qty'].describe()\n",
    "df_transactions.duplicated(subset=['trans_id']).sum()\n",
    "\n",
    "mt.check_unique_no(df_transactions, ['customer_id', 'trans_id'])\n",
    "df_transactions.shape"
   ]
  },
  {
   "cell_type": "markdown",
   "metadata": {},
   "source": [
    "**Replace 'qty', 'rate', 'tax', 'total_amt', 'counter' of transactions with returned items with 0**"
   ]
  },
  {
   "cell_type": "code",
   "execution_count": 19,
   "metadata": {},
   "outputs": [
    {
     "data": {
      "text/html": [
       "<div>\n",
       "<style scoped>\n",
       "    .dataframe tbody tr th:only-of-type {\n",
       "        vertical-align: middle;\n",
       "    }\n",
       "\n",
       "    .dataframe tbody tr th {\n",
       "        vertical-align: top;\n",
       "    }\n",
       "\n",
       "    .dataframe thead th {\n",
       "        text-align: right;\n",
       "    }\n",
       "</style>\n",
       "<table border=\"1\" class=\"dataframe\">\n",
       "  <thead>\n",
       "    <tr style=\"text-align: right;\">\n",
       "      <th></th>\n",
       "      <th>trans_id</th>\n",
       "      <th>customer_id</th>\n",
       "      <th>trans_date</th>\n",
       "      <th>prod_subcat_code</th>\n",
       "      <th>prod_cat_code</th>\n",
       "      <th>qty</th>\n",
       "      <th>rate</th>\n",
       "      <th>tax</th>\n",
       "      <th>total_amt</th>\n",
       "      <th>store_type</th>\n",
       "      <th>prod_cat</th>\n",
       "      <th>prod_subcat</th>\n",
       "      <th>counter</th>\n",
       "      <th>product</th>\n",
       "      <th>returned_item</th>\n",
       "    </tr>\n",
       "  </thead>\n",
       "  <tbody>\n",
       "    <tr>\n",
       "      <th>10</th>\n",
       "      <td>29258453508</td>\n",
       "      <td>270384</td>\n",
       "      <td>20-02-2014</td>\n",
       "      <td>5</td>\n",
       "      <td>3</td>\n",
       "      <td>0</td>\n",
       "      <td>0</td>\n",
       "      <td>0.00</td>\n",
       "      <td>0.00</td>\n",
       "      <td>e-Shop</td>\n",
       "      <td>Electronics</td>\n",
       "      <td>Computers</td>\n",
       "      <td>0</td>\n",
       "      <td>Electronics_Computers</td>\n",
       "      <td>yes</td>\n",
       "    </tr>\n",
       "    <tr>\n",
       "      <th>11</th>\n",
       "      <td>25455265351</td>\n",
       "      <td>267750</td>\n",
       "      <td>20-02-2014</td>\n",
       "      <td>12</td>\n",
       "      <td>6</td>\n",
       "      <td>3</td>\n",
       "      <td>1360</td>\n",
       "      <td>428.40</td>\n",
       "      <td>4508.40</td>\n",
       "      <td>e-Shop</td>\n",
       "      <td>Home and kitchen</td>\n",
       "      <td>Tools</td>\n",
       "      <td>1</td>\n",
       "      <td>Home and kitchen_Tools</td>\n",
       "      <td>no</td>\n",
       "    </tr>\n",
       "    <tr>\n",
       "      <th>12</th>\n",
       "      <td>1571002198</td>\n",
       "      <td>275023</td>\n",
       "      <td>20-02-2014</td>\n",
       "      <td>6</td>\n",
       "      <td>5</td>\n",
       "      <td>4</td>\n",
       "      <td>587</td>\n",
       "      <td>246.54</td>\n",
       "      <td>2594.54</td>\n",
       "      <td>e-Shop</td>\n",
       "      <td>Books</td>\n",
       "      <td>DIY</td>\n",
       "      <td>1</td>\n",
       "      <td>Books_DIY</td>\n",
       "      <td>no</td>\n",
       "    </tr>\n",
       "    <tr>\n",
       "      <th>14</th>\n",
       "      <td>36554696014</td>\n",
       "      <td>269345</td>\n",
       "      <td>20-02-2014</td>\n",
       "      <td>3</td>\n",
       "      <td>5</td>\n",
       "      <td>3</td>\n",
       "      <td>1253</td>\n",
       "      <td>394.69</td>\n",
       "      <td>4153.69</td>\n",
       "      <td>e-Shop</td>\n",
       "      <td>Books</td>\n",
       "      <td>Comics</td>\n",
       "      <td>1</td>\n",
       "      <td>Books_Comics</td>\n",
       "      <td>no</td>\n",
       "    </tr>\n",
       "    <tr>\n",
       "      <th>15</th>\n",
       "      <td>56814940239</td>\n",
       "      <td>268799</td>\n",
       "      <td>20-02-2014</td>\n",
       "      <td>7</td>\n",
       "      <td>5</td>\n",
       "      <td>5</td>\n",
       "      <td>368</td>\n",
       "      <td>193.20</td>\n",
       "      <td>2033.20</td>\n",
       "      <td>e-Shop</td>\n",
       "      <td>Books</td>\n",
       "      <td>Fiction</td>\n",
       "      <td>1</td>\n",
       "      <td>Books_Fiction</td>\n",
       "      <td>no</td>\n",
       "    </tr>\n",
       "  </tbody>\n",
       "</table>\n",
       "</div>"
      ],
      "text/plain": [
       "       trans_id  customer_id  trans_date  prod_subcat_code  prod_cat_code  \\\n",
       "10  29258453508       270384  20-02-2014                 5              3   \n",
       "11  25455265351       267750  20-02-2014                12              6   \n",
       "12   1571002198       275023  20-02-2014                 6              5   \n",
       "14  36554696014       269345  20-02-2014                 3              5   \n",
       "15  56814940239       268799  20-02-2014                 7              5   \n",
       "\n",
       "    qty  rate    tax  total_amt store_type          prod_cat prod_subcat  \\\n",
       "10    0     0   0.00       0.00     e-Shop       Electronics   Computers   \n",
       "11    3  1360 428.40    4508.40     e-Shop  Home and kitchen       Tools   \n",
       "12    4   587 246.54    2594.54     e-Shop             Books         DIY   \n",
       "14    3  1253 394.69    4153.69     e-Shop             Books      Comics   \n",
       "15    5   368 193.20    2033.20     e-Shop             Books     Fiction   \n",
       "\n",
       "    counter                 product returned_item  \n",
       "10        0   Electronics_Computers           yes  \n",
       "11        1  Home and kitchen_Tools            no  \n",
       "12        1               Books_DIY            no  \n",
       "14        1            Books_Comics            no  \n",
       "15        1           Books_Fiction            no  "
      ]
     },
     "execution_count": 19,
     "metadata": {},
     "output_type": "execute_result"
    }
   ],
   "source": [
    "df_transactions['qty'] = np.where((df_transactions['returned_item'] == 'yes'), 0, df_transactions['qty'])\n",
    "df_transactions['rate'] = np.where((df_transactions['returned_item'] == 'yes'), 0, df_transactions['rate'])\n",
    "df_transactions['tax'] = np.where((df_transactions['returned_item'] == 'yes'), 0, df_transactions['tax'])\n",
    "df_transactions['total_amt'] = np.where((df_transactions['returned_item'] == 'yes'), 0, df_transactions['total_amt'])\n",
    "df_transactions['counter'] = np.where((df_transactions['returned_item'] == 'yes'), 0, df_transactions['counter'])\n",
    "df_transactions.head()"
   ]
  },
  {
   "cell_type": "code",
   "execution_count": 20,
   "metadata": {},
   "outputs": [
    {
     "data": {
      "text/plain": [
       "e-Shop            8429\n",
       "MBR               4210\n",
       "Flagship store    4145\n",
       "TeleShop          4092\n",
       "Name: store_type, dtype: int64"
      ]
     },
     "execution_count": 20,
     "metadata": {},
     "output_type": "execute_result"
    }
   ],
   "source": [
    "df_transactions['store_type'].value_counts(dropna=False)"
   ]
  },
  {
   "cell_type": "code",
   "execution_count": 21,
   "metadata": {},
   "outputs": [],
   "source": [
    "df_transactions = df_transactions.sort_values(['customer_id','trans_date'])\n",
    "df_transactions['trans_date'] = pd.to_datetime(df_transactions['trans_date'])"
   ]
  },
  {
   "cell_type": "markdown",
   "metadata": {},
   "source": [
    "### Sanity Check Data"
   ]
  },
  {
   "cell_type": "code",
   "execution_count": 22,
   "metadata": {},
   "outputs": [
    {
     "name": "stdout",
     "output_type": "stream",
     "text": [
      "Data has 5647 unique customer_id\n"
     ]
    },
    {
     "data": {
      "text/plain": [
       "(5647, 4)"
      ]
     },
     "execution_count": 22,
     "metadata": {},
     "output_type": "execute_result"
    },
    {
     "name": "stdout",
     "output_type": "stream",
     "text": [
      "Data has 5506 unique customer_id\n",
      "Data has 20876 unique trans_id\n"
     ]
    },
    {
     "data": {
      "text/plain": [
       "(20876, 15)"
      ]
     },
     "execution_count": 22,
     "metadata": {},
     "output_type": "execute_result"
    }
   ],
   "source": [
    "mt.check_unique_no(df_customer, ['customer_id'])\n",
    "df_customer.shape\n",
    "\n",
    "mt.check_unique_no(df_transactions, ['customer_id', 'trans_id'])\n",
    "df_transactions.shape"
   ]
  },
  {
   "cell_type": "code",
   "execution_count": 23,
   "metadata": {},
   "outputs": [
    {
     "data": {
      "text/plain": [
       "Timestamp('2011-01-02 00:00:00')"
      ]
     },
     "execution_count": 23,
     "metadata": {},
     "output_type": "execute_result"
    },
    {
     "data": {
      "text/plain": [
       "Timestamp('2014-12-02 00:00:00')"
      ]
     },
     "execution_count": 23,
     "metadata": {},
     "output_type": "execute_result"
    }
   ],
   "source": [
    "df_transactions['trans_date'].sort_values().min()\n",
    "df_transactions['trans_date'].sort_values().max()"
   ]
  },
  {
   "cell_type": "code",
   "execution_count": 24,
   "metadata": {},
   "outputs": [
    {
     "data": {
      "text/plain": [
       "48903316.475"
      ]
     },
     "execution_count": 24,
     "metadata": {},
     "output_type": "execute_result"
    },
    {
     "data": {
      "text/plain": [
       "4646921.475"
      ]
     },
     "execution_count": 24,
     "metadata": {},
     "output_type": "execute_result"
    },
    {
     "data": {
      "text/plain": [
       "14766262"
      ]
     },
     "execution_count": 24,
     "metadata": {},
     "output_type": "execute_result"
    },
    {
     "data": {
      "text/plain": [
       "56434"
      ]
     },
     "execution_count": 24,
     "metadata": {},
     "output_type": "execute_result"
    }
   ],
   "source": [
    "df_transactions['total_amt'].sum()\n",
    "df_transactions['tax'].sum()\n",
    "df_transactions['rate'].sum()\n",
    "df_transactions['qty'].sum()"
   ]
  },
  {
   "cell_type": "markdown",
   "metadata": {},
   "source": [
    "## Export Data"
   ]
  },
  {
   "cell_type": "code",
   "execution_count": 25,
   "metadata": {},
   "outputs": [],
   "source": [
    "df_customer.to_csv(filepaths.clean_customer_data_v1, index=False)\n",
    "df_us_regions.to_csv(filepaths.clean_us_regions_data_v1, index=False)\n",
    "df_cities.to_csv(filepaths.clean_cities_data_v1, index=False)\n",
    "df_transactions.to_csv(filepaths.clean_transactions_data_v1, index=False)"
   ]
  }
 ],
 "metadata": {
  "kernelspec": {
   "display_name": "Python 3",
   "language": "python",
   "name": "python3"
  },
  "language_info": {
   "codemirror_mode": {
    "name": "ipython",
    "version": 3
   },
   "file_extension": ".py",
   "mimetype": "text/x-python",
   "name": "python",
   "nbconvert_exporter": "python",
   "pygments_lexer": "ipython3",
   "version": "3.8.3"
  }
 },
 "nbformat": 4,
 "nbformat_minor": 2
}
